{
 "cells": [
  {
   "cell_type": "markdown",
   "id": "d6dd6b90",
   "metadata": {},
   "source": [
    "## Developing a model for predicting f1 score for `standing`"
   ]
  },
  {
   "cell_type": "markdown",
   "id": "d2a0cd45",
   "metadata": {},
   "source": [
    "**From given dataset we have to build model for cow standing activities which can predict better f1 score**"
   ]
  },
  {
   "cell_type": "code",
   "execution_count": 35,
   "id": "bc121414",
   "metadata": {},
   "outputs": [
    {
     "data": {
      "image/png": "[encoded data removed]",
      "text/plain": [
       "<IPython.core.display.Image object>"
      ]
     },
     "execution_count": 35,
     "metadata": {
      "image/png": {
       "height": 100,
       "width": 500
      }
     },
     "output_type": "execute_result"
    }
   ],
   "source": [
    "Image(\"images.png\",width=500,\n",
    "    height=100)"
   ]
  },
  {
   "cell_type": "code",
   "execution_count": 32,
   "id": "99acb37d",
   "metadata": {},
   "outputs": [],
   "source": [
    "#Importing tools we need\n",
    "import numpy as np\n",
    "import pandas as pd\n",
    "import seaborn as sns\n",
    "import matplotlib.pyplot as plt\n",
    "from IPython.display import Image\n",
    "\n",
    "%matplotlib inline"
   ]
  },
  {
   "cell_type": "code",
   "execution_count": 6,
   "id": "106e4c37",
   "metadata": {},
   "outputs": [],
   "source": [
    "#Importing dataset\n",
    "df = pd.read_csv(\"S4_train.csv\")"
   ]
  },
  {
   "cell_type": "code",
   "execution_count": 7,
   "id": "67ddef75",
   "metadata": {},
   "outputs": [
    {
     "data": {
      "text/html": [
       "<div>\n",
       "<style scoped>\n",
       "    .dataframe tbody tr th:only-of-type {\n",
       "        vertical-align: middle;\n",
       "    }\n",
       "\n",
       "    .dataframe tbody tr th {\n",
       "        vertical-align: top;\n",
       "    }\n",
       "\n",
       "    .dataframe thead th {\n",
       "        text-align: right;\n",
       "    }\n",
       "</style>\n",
       "<table border=\"1\" class=\"dataframe\">\n",
       "  <thead>\n",
       "    <tr style=\"text-align: right;\">\n",
       "      <th></th>\n",
       "      <th>time</th>\n",
       "      <th>acc_x</th>\n",
       "      <th>acc_y</th>\n",
       "      <th>acc_z</th>\n",
       "      <th>gyr_x</th>\n",
       "      <th>gyr_y</th>\n",
       "      <th>gyr_z</th>\n",
       "      <th>mag_x</th>\n",
       "      <th>mag_y</th>\n",
       "      <th>mag_z</th>\n",
       "      <th>label</th>\n",
       "    </tr>\n",
       "  </thead>\n",
       "  <tbody>\n",
       "    <tr>\n",
       "      <th>0</th>\n",
       "      <td>1628308150</td>\n",
       "      <td>0.209961</td>\n",
       "      <td>0.943359</td>\n",
       "      <td>0.138672</td>\n",
       "      <td>-6.591797</td>\n",
       "      <td>-6.530762</td>\n",
       "      <td>-2.258301</td>\n",
       "      <td>-174.0</td>\n",
       "      <td>1429.5</td>\n",
       "      <td>432.0</td>\n",
       "      <td>4</td>\n",
       "    </tr>\n",
       "    <tr>\n",
       "      <th>1</th>\n",
       "      <td>1628308150</td>\n",
       "      <td>0.210449</td>\n",
       "      <td>0.947266</td>\n",
       "      <td>0.158203</td>\n",
       "      <td>-6.896973</td>\n",
       "      <td>-3.479004</td>\n",
       "      <td>-2.197266</td>\n",
       "      <td>-172.5</td>\n",
       "      <td>1429.5</td>\n",
       "      <td>414.0</td>\n",
       "      <td>4</td>\n",
       "    </tr>\n",
       "    <tr>\n",
       "      <th>2</th>\n",
       "      <td>1628308150</td>\n",
       "      <td>0.214356</td>\n",
       "      <td>0.948242</td>\n",
       "      <td>0.173828</td>\n",
       "      <td>-3.845215</td>\n",
       "      <td>-0.488281</td>\n",
       "      <td>-3.662109</td>\n",
       "      <td>-163.5</td>\n",
       "      <td>1434.0</td>\n",
       "      <td>414.0</td>\n",
       "      <td>4</td>\n",
       "    </tr>\n",
       "    <tr>\n",
       "      <th>3</th>\n",
       "      <td>1628308150</td>\n",
       "      <td>0.200684</td>\n",
       "      <td>0.950684</td>\n",
       "      <td>0.158691</td>\n",
       "      <td>0.854492</td>\n",
       "      <td>1.220703</td>\n",
       "      <td>-3.295898</td>\n",
       "      <td>-183.0</td>\n",
       "      <td>1428.0</td>\n",
       "      <td>414.0</td>\n",
       "      <td>4</td>\n",
       "    </tr>\n",
       "    <tr>\n",
       "      <th>4</th>\n",
       "      <td>1628308150</td>\n",
       "      <td>0.183106</td>\n",
       "      <td>0.943359</td>\n",
       "      <td>0.146973</td>\n",
       "      <td>0.915527</td>\n",
       "      <td>0.488281</td>\n",
       "      <td>-4.333496</td>\n",
       "      <td>-162.0</td>\n",
       "      <td>1416.0</td>\n",
       "      <td>421.5</td>\n",
       "      <td>4</td>\n",
       "    </tr>\n",
       "  </tbody>\n",
       "</table>\n",
       "</div>"
      ],
      "text/plain": [
       "         time     acc_x     acc_y     acc_z     gyr_x     gyr_y     gyr_z  \\\n",
       "0  1628308150  0.209961  0.943359  0.138672 -6.591797 -6.530762 -2.258301   \n",
       "1  1628308150  0.210449  0.947266  0.158203 -6.896973 -3.479004 -2.197266   \n",
       "2  1628308150  0.214356  0.948242  0.173828 -3.845215 -0.488281 -3.662109   \n",
       "3  1628308150  0.200684  0.950684  0.158691  0.854492  1.220703 -3.295898   \n",
       "4  1628308150  0.183106  0.943359  0.146973  0.915527  0.488281 -4.333496   \n",
       "\n",
       "   mag_x   mag_y  mag_z  label  \n",
       "0 -174.0  1429.5  432.0      4  \n",
       "1 -172.5  1429.5  414.0      4  \n",
       "2 -163.5  1434.0  414.0      4  \n",
       "3 -183.0  1428.0  414.0      4  \n",
       "4 -162.0  1416.0  421.5      4  "
      ]
     },
     "execution_count": 7,
     "metadata": {},
     "output_type": "execute_result"
    }
   ],
   "source": [
    "df.head()"
   ]
  },
  {
   "cell_type": "code",
   "execution_count": 8,
   "id": "80051556",
   "metadata": {},
   "outputs": [
    {
     "data": {
      "text/plain": [
       "time       int64\n",
       "acc_x    float64\n",
       "acc_y    float64\n",
       "acc_z    float64\n",
       "gyr_x    float64\n",
       "gyr_y    float64\n",
       "gyr_z    float64\n",
       "mag_x    float64\n",
       "mag_y    float64\n",
       "mag_z    float64\n",
       "label      int64\n",
       "dtype: object"
      ]
     },
     "execution_count": 8,
     "metadata": {},
     "output_type": "execute_result"
    }
   ],
   "source": [
    "df.dtypes"
   ]
  },
  {
   "cell_type": "code",
   "execution_count": 9,
   "id": "f883fa9e",
   "metadata": {},
   "outputs": [
    {
     "data": {
      "text/plain": [
       "2539806"
      ]
     },
     "execution_count": 9,
     "metadata": {},
     "output_type": "execute_result"
    }
   ],
   "source": [
    "len(df)"
   ]
  },
  {
   "cell_type": "code",
   "execution_count": 10,
   "id": "2c06b537",
   "metadata": {},
   "outputs": [
    {
     "data": {
      "text/plain": [
       "4    2539806\n",
       "Name: label, dtype: int64"
      ]
     },
     "execution_count": 10,
     "metadata": {},
     "output_type": "execute_result"
    }
   ],
   "source": [
    "df[\"label\"].value_counts()"
   ]
  },
  {
   "cell_type": "code",
   "execution_count": 11,
   "id": "01f46662",
   "metadata": {},
   "outputs": [
    {
     "data": {
      "text/html": [
       "<div>\n",
       "<style scoped>\n",
       "    .dataframe tbody tr th:only-of-type {\n",
       "        vertical-align: middle;\n",
       "    }\n",
       "\n",
       "    .dataframe tbody tr th {\n",
       "        vertical-align: top;\n",
       "    }\n",
       "\n",
       "    .dataframe thead th {\n",
       "        text-align: right;\n",
       "    }\n",
       "</style>\n",
       "<table border=\"1\" class=\"dataframe\">\n",
       "  <thead>\n",
       "    <tr style=\"text-align: right;\">\n",
       "      <th></th>\n",
       "      <th>time</th>\n",
       "      <th>acc_x</th>\n",
       "      <th>acc_y</th>\n",
       "      <th>acc_z</th>\n",
       "      <th>gyr_x</th>\n",
       "      <th>gyr_y</th>\n",
       "      <th>gyr_z</th>\n",
       "      <th>mag_x</th>\n",
       "      <th>mag_y</th>\n",
       "      <th>mag_z</th>\n",
       "      <th>label</th>\n",
       "    </tr>\n",
       "  </thead>\n",
       "  <tbody>\n",
       "    <tr>\n",
       "      <th>count</th>\n",
       "      <td>2.539806e+06</td>\n",
       "      <td>2.539806e+06</td>\n",
       "      <td>2.539806e+06</td>\n",
       "      <td>2.539806e+06</td>\n",
       "      <td>2.539806e+06</td>\n",
       "      <td>2.539806e+06</td>\n",
       "      <td>2.539806e+06</td>\n",
       "      <td>2.539806e+06</td>\n",
       "      <td>2.539806e+06</td>\n",
       "      <td>2.539806e+06</td>\n",
       "      <td>2539806.0</td>\n",
       "    </tr>\n",
       "    <tr>\n",
       "      <th>mean</th>\n",
       "      <td>1.628321e+09</td>\n",
       "      <td>-5.732140e-02</td>\n",
       "      <td>5.482271e-01</td>\n",
       "      <td>1.423320e-01</td>\n",
       "      <td>8.225516e-01</td>\n",
       "      <td>-1.966107e+00</td>\n",
       "      <td>-6.863351e-01</td>\n",
       "      <td>-2.185851e+02</td>\n",
       "      <td>3.375701e+02</td>\n",
       "      <td>2.180714e+02</td>\n",
       "      <td>4.0</td>\n",
       "    </tr>\n",
       "    <tr>\n",
       "      <th>std</th>\n",
       "      <td>8.162702e+04</td>\n",
       "      <td>2.414833e-01</td>\n",
       "      <td>7.797225e-01</td>\n",
       "      <td>1.599196e-01</td>\n",
       "      <td>1.612364e+01</td>\n",
       "      <td>2.736575e+01</td>\n",
       "      <td>1.291417e+01</td>\n",
       "      <td>2.405244e+02</td>\n",
       "      <td>6.006150e+02</td>\n",
       "      <td>4.321937e+02</td>\n",
       "      <td>0.0</td>\n",
       "    </tr>\n",
       "    <tr>\n",
       "      <th>min</th>\n",
       "      <td>1.628070e+09</td>\n",
       "      <td>-1.151172e+01</td>\n",
       "      <td>-1.314160e+01</td>\n",
       "      <td>-1.598340e+01</td>\n",
       "      <td>-1.902039e+03</td>\n",
       "      <td>-1.986816e+03</td>\n",
       "      <td>-1.860107e+03</td>\n",
       "      <td>-1.152000e+03</td>\n",
       "      <td>-7.665000e+02</td>\n",
       "      <td>-1.150500e+03</td>\n",
       "      <td>4.0</td>\n",
       "    </tr>\n",
       "    <tr>\n",
       "      <th>25%</th>\n",
       "      <td>1.628318e+09</td>\n",
       "      <td>-2.041016e-01</td>\n",
       "      <td>8.007813e-01</td>\n",
       "      <td>7.958980e-02</td>\n",
       "      <td>-1.708984e+00</td>\n",
       "      <td>-7.263184e+00</td>\n",
       "      <td>-2.807617e+00</td>\n",
       "      <td>-3.975000e+02</td>\n",
       "      <td>-1.455000e+02</td>\n",
       "      <td>1.185000e+02</td>\n",
       "      <td>4.0</td>\n",
       "    </tr>\n",
       "    <tr>\n",
       "      <th>50%</th>\n",
       "      <td>1.628335e+09</td>\n",
       "      <td>-5.566410e-02</td>\n",
       "      <td>9.462891e-01</td>\n",
       "      <td>1.425781e-01</td>\n",
       "      <td>8.544922e-01</td>\n",
       "      <td>-2.075195e+00</td>\n",
       "      <td>-6.713868e-01</td>\n",
       "      <td>-1.980000e+02</td>\n",
       "      <td>9.750000e+01</td>\n",
       "      <td>3.345000e+02</td>\n",
       "      <td>4.0</td>\n",
       "    </tr>\n",
       "    <tr>\n",
       "      <th>75%</th>\n",
       "      <td>1.628343e+09</td>\n",
       "      <td>8.007810e-02</td>\n",
       "      <td>9.775391e-01</td>\n",
       "      <td>2.124024e-01</td>\n",
       "      <td>3.295898e+00</td>\n",
       "      <td>2.929688e+00</td>\n",
       "      <td>1.586914e+00</td>\n",
       "      <td>-6.150000e+01</td>\n",
       "      <td>9.645000e+02</td>\n",
       "      <td>5.430000e+02</td>\n",
       "      <td>4.0</td>\n",
       "    </tr>\n",
       "    <tr>\n",
       "      <th>max</th>\n",
       "      <td>1.628404e+09</td>\n",
       "      <td>5.737305e+00</td>\n",
       "      <td>7.085449e+00</td>\n",
       "      <td>1.599854e+01</td>\n",
       "      <td>1.902710e+03</td>\n",
       "      <td>1.859924e+03</td>\n",
       "      <td>1.523376e+03</td>\n",
       "      <td>7.920000e+02</td>\n",
       "      <td>1.558500e+03</td>\n",
       "      <td>1.147500e+03</td>\n",
       "      <td>4.0</td>\n",
       "    </tr>\n",
       "  </tbody>\n",
       "</table>\n",
       "</div>"
      ],
      "text/plain": [
       "               time         acc_x         acc_y         acc_z         gyr_x  \\\n",
       "count  2.539806e+06  2.539806e+06  2.539806e+06  2.539806e+06  2.539806e+06   \n",
       "mean   1.628321e+09 -5.732140e-02  5.482271e-01  1.423320e-01  8.225516e-01   \n",
       "std    8.162702e+04  2.414833e-01  7.797225e-01  1.599196e-01  1.612364e+01   \n",
       "min    1.628070e+09 -1.151172e+01 -1.314160e+01 -1.598340e+01 -1.902039e+03   \n",
       "25%    1.628318e+09 -2.041016e-01  8.007813e-01  7.958980e-02 -1.708984e+00   \n",
       "50%    1.628335e+09 -5.566410e-02  9.462891e-01  1.425781e-01  8.544922e-01   \n",
       "75%    1.628343e+09  8.007810e-02  9.775391e-01  2.124024e-01  3.295898e+00   \n",
       "max    1.628404e+09  5.737305e+00  7.085449e+00  1.599854e+01  1.902710e+03   \n",
       "\n",
       "              gyr_y         gyr_z         mag_x         mag_y         mag_z  \\\n",
       "count  2.539806e+06  2.539806e+06  2.539806e+06  2.539806e+06  2.539806e+06   \n",
       "mean  -1.966107e+00 -6.863351e-01 -2.185851e+02  3.375701e+02  2.180714e+02   \n",
       "std    2.736575e+01  1.291417e+01  2.405244e+02  6.006150e+02  4.321937e+02   \n",
       "min   -1.986816e+03 -1.860107e+03 -1.152000e+03 -7.665000e+02 -1.150500e+03   \n",
       "25%   -7.263184e+00 -2.807617e+00 -3.975000e+02 -1.455000e+02  1.185000e+02   \n",
       "50%   -2.075195e+00 -6.713868e-01 -1.980000e+02  9.750000e+01  3.345000e+02   \n",
       "75%    2.929688e+00  1.586914e+00 -6.150000e+01  9.645000e+02  5.430000e+02   \n",
       "max    1.859924e+03  1.523376e+03  7.920000e+02  1.558500e+03  1.147500e+03   \n",
       "\n",
       "           label  \n",
       "count  2539806.0  \n",
       "mean         4.0  \n",
       "std          0.0  \n",
       "min          4.0  \n",
       "25%          4.0  \n",
       "50%          4.0  \n",
       "75%          4.0  \n",
       "max          4.0  "
      ]
     },
     "execution_count": 11,
     "metadata": {},
     "output_type": "execute_result"
    }
   ],
   "source": [
    "df.describe()"
   ]
  },
  {
   "cell_type": "code",
   "execution_count": 12,
   "id": "3cb43fad",
   "metadata": {},
   "outputs": [
    {
     "data": {
      "image/png": "[encoded data removed]",
      "text/plain": [
       "<Figure size 1080x432 with 1 Axes>"
      ]
     },
     "metadata": {
      "needs_background": "light"
     },
     "output_type": "display_data"
    }
   ],
   "source": [
    "df.corr().plot(kind=\"bar\",\n",
    "              figsize=(15,6))\n",
    "plt.xticks(rotation=0);"
   ]
  },
  {
   "cell_type": "code",
   "execution_count": 13,
   "id": "f7a07ddc",
   "metadata": {},
   "outputs": [
    {
     "data": {
      "image/png": "[encoded data removed]",
      "text/plain": [
       "<Figure size 864x432 with 2 Axes>"
      ]
     },
     "metadata": {
      "needs_background": "light"
     },
     "output_type": "display_data"
    }
   ],
   "source": [
    "corr_mat=df.corr()\n",
    "fig,ax = plt.subplots(figsize=(12,6))\n",
    "ax = sns.heatmap(corr_mat,\n",
    "                annot=True,\n",
    "                linewidths=0.5,\n",
    "                fmt=\".2f\")"
   ]
  },
  {
   "cell_type": "code",
   "execution_count": 14,
   "id": "ac1c144f",
   "metadata": {},
   "outputs": [],
   "source": [
    "#Importing train_test_split from sklearn model selaction \n",
    "from sklearn.model_selection import train_test_split\n",
    "\n",
    "#Creating X & y labels\n",
    "X = df.drop(\"label\",axis=1)\n",
    "y = df[\"label\"]\n",
    "\n",
    "#Spliting data into training ad testing \n",
    "X_train , X_test , y_train ,y_test = train_test_split(X, y , test_size=0.2)"
   ]
  },
  {
   "cell_type": "code",
   "execution_count": 15,
   "id": "530de722",
   "metadata": {},
   "outputs": [
    {
     "data": {
      "text/html": [
       "<div>\n",
       "<style scoped>\n",
       "    .dataframe tbody tr th:only-of-type {\n",
       "        vertical-align: middle;\n",
       "    }\n",
       "\n",
       "    .dataframe tbody tr th {\n",
       "        vertical-align: top;\n",
       "    }\n",
       "\n",
       "    .dataframe thead th {\n",
       "        text-align: right;\n",
       "    }\n",
       "</style>\n",
       "<table border=\"1\" class=\"dataframe\">\n",
       "  <thead>\n",
       "    <tr style=\"text-align: right;\">\n",
       "      <th></th>\n",
       "      <th>time</th>\n",
       "      <th>acc_x</th>\n",
       "      <th>acc_y</th>\n",
       "      <th>acc_z</th>\n",
       "      <th>gyr_x</th>\n",
       "      <th>gyr_y</th>\n",
       "      <th>gyr_z</th>\n",
       "      <th>mag_x</th>\n",
       "      <th>mag_y</th>\n",
       "      <th>mag_z</th>\n",
       "    </tr>\n",
       "  </thead>\n",
       "  <tbody>\n",
       "    <tr>\n",
       "      <th>474995</th>\n",
       "      <td>1628307495</td>\n",
       "      <td>0.303711</td>\n",
       "      <td>-0.774902</td>\n",
       "      <td>0.330566</td>\n",
       "      <td>-0.915527</td>\n",
       "      <td>49.743652</td>\n",
       "      <td>-30.456543</td>\n",
       "      <td>-472.5</td>\n",
       "      <td>51.0</td>\n",
       "      <td>-409.5</td>\n",
       "    </tr>\n",
       "    <tr>\n",
       "      <th>2393362</th>\n",
       "      <td>1628335201</td>\n",
       "      <td>0.190430</td>\n",
       "      <td>1.000976</td>\n",
       "      <td>-0.069336</td>\n",
       "      <td>1.098633</td>\n",
       "      <td>-2.014160</td>\n",
       "      <td>1.770020</td>\n",
       "      <td>-546.0</td>\n",
       "      <td>1084.5</td>\n",
       "      <td>358.5</td>\n",
       "    </tr>\n",
       "    <tr>\n",
       "      <th>2388475</th>\n",
       "      <td>1628335088</td>\n",
       "      <td>0.126465</td>\n",
       "      <td>0.983398</td>\n",
       "      <td>0.029297</td>\n",
       "      <td>1.098633</td>\n",
       "      <td>-1.708984</td>\n",
       "      <td>-0.610352</td>\n",
       "      <td>-480.0</td>\n",
       "      <td>1053.0</td>\n",
       "      <td>345.0</td>\n",
       "    </tr>\n",
       "    <tr>\n",
       "      <th>1709964</th>\n",
       "      <td>1628393054</td>\n",
       "      <td>0.086914</td>\n",
       "      <td>0.975586</td>\n",
       "      <td>0.142578</td>\n",
       "      <td>1.586914</td>\n",
       "      <td>-6.408691</td>\n",
       "      <td>0.671387</td>\n",
       "      <td>-151.5</td>\n",
       "      <td>-226.5</td>\n",
       "      <td>276.0</td>\n",
       "    </tr>\n",
       "    <tr>\n",
       "      <th>524807</th>\n",
       "      <td>1628317187</td>\n",
       "      <td>-0.640137</td>\n",
       "      <td>-0.702637</td>\n",
       "      <td>0.287109</td>\n",
       "      <td>6.225586</td>\n",
       "      <td>0.732422</td>\n",
       "      <td>-3.051758</td>\n",
       "      <td>-87.0</td>\n",
       "      <td>60.0</td>\n",
       "      <td>-420.0</td>\n",
       "    </tr>\n",
       "    <tr>\n",
       "      <th>...</th>\n",
       "      <td>...</td>\n",
       "      <td>...</td>\n",
       "      <td>...</td>\n",
       "      <td>...</td>\n",
       "      <td>...</td>\n",
       "      <td>...</td>\n",
       "      <td>...</td>\n",
       "      <td>...</td>\n",
       "      <td>...</td>\n",
       "      <td>...</td>\n",
       "    </tr>\n",
       "    <tr>\n",
       "      <th>440031</th>\n",
       "      <td>1628392770</td>\n",
       "      <td>0.408691</td>\n",
       "      <td>0.797852</td>\n",
       "      <td>0.257324</td>\n",
       "      <td>-4.150391</td>\n",
       "      <td>44.250488</td>\n",
       "      <td>-4.760742</td>\n",
       "      <td>-382.5</td>\n",
       "      <td>1384.5</td>\n",
       "      <td>451.5</td>\n",
       "    </tr>\n",
       "    <tr>\n",
       "      <th>2079179</th>\n",
       "      <td>1628341546</td>\n",
       "      <td>0.018066</td>\n",
       "      <td>0.972168</td>\n",
       "      <td>0.101562</td>\n",
       "      <td>-0.183106</td>\n",
       "      <td>-8.605957</td>\n",
       "      <td>-0.183106</td>\n",
       "      <td>-520.5</td>\n",
       "      <td>126.0</td>\n",
       "      <td>699.0</td>\n",
       "    </tr>\n",
       "    <tr>\n",
       "      <th>188641</th>\n",
       "      <td>1628334989</td>\n",
       "      <td>-0.125000</td>\n",
       "      <td>0.981445</td>\n",
       "      <td>0.071777</td>\n",
       "      <td>-1.525879</td>\n",
       "      <td>17.333984</td>\n",
       "      <td>-0.122070</td>\n",
       "      <td>-12.0</td>\n",
       "      <td>1357.5</td>\n",
       "      <td>388.5</td>\n",
       "    </tr>\n",
       "    <tr>\n",
       "      <th>2412832</th>\n",
       "      <td>1628337243</td>\n",
       "      <td>-0.411621</td>\n",
       "      <td>1.019043</td>\n",
       "      <td>-0.169434</td>\n",
       "      <td>-13.549805</td>\n",
       "      <td>-47.973633</td>\n",
       "      <td>-14.160156</td>\n",
       "      <td>-685.5</td>\n",
       "      <td>909.0</td>\n",
       "      <td>907.5</td>\n",
       "    </tr>\n",
       "    <tr>\n",
       "      <th>572435</th>\n",
       "      <td>1628330563</td>\n",
       "      <td>-0.037598</td>\n",
       "      <td>-0.973633</td>\n",
       "      <td>0.310547</td>\n",
       "      <td>2.197266</td>\n",
       "      <td>-2.380371</td>\n",
       "      <td>0.366211</td>\n",
       "      <td>-390.0</td>\n",
       "      <td>-15.0</td>\n",
       "      <td>-637.5</td>\n",
       "    </tr>\n",
       "  </tbody>\n",
       "</table>\n",
       "<p>2031844 rows × 10 columns</p>\n",
       "</div>"
      ],
      "text/plain": [
       "               time     acc_x     acc_y     acc_z      gyr_x      gyr_y  \\\n",
       "474995   1628307495  0.303711 -0.774902  0.330566  -0.915527  49.743652   \n",
       "2393362  1628335201  0.190430  1.000976 -0.069336   1.098633  -2.014160   \n",
       "2388475  1628335088  0.126465  0.983398  0.029297   1.098633  -1.708984   \n",
       "1709964  1628393054  0.086914  0.975586  0.142578   1.586914  -6.408691   \n",
       "524807   1628317187 -0.640137 -0.702637  0.287109   6.225586   0.732422   \n",
       "...             ...       ...       ...       ...        ...        ...   \n",
       "440031   1628392770  0.408691  0.797852  0.257324  -4.150391  44.250488   \n",
       "2079179  1628341546  0.018066  0.972168  0.101562  -0.183106  -8.605957   \n",
       "188641   1628334989 -0.125000  0.981445  0.071777  -1.525879  17.333984   \n",
       "2412832  1628337243 -0.411621  1.019043 -0.169434 -13.549805 -47.973633   \n",
       "572435   1628330563 -0.037598 -0.973633  0.310547   2.197266  -2.380371   \n",
       "\n",
       "             gyr_z  mag_x   mag_y  mag_z  \n",
       "474995  -30.456543 -472.5    51.0 -409.5  \n",
       "2393362   1.770020 -546.0  1084.5  358.5  \n",
       "2388475  -0.610352 -480.0  1053.0  345.0  \n",
       "1709964   0.671387 -151.5  -226.5  276.0  \n",
       "524807   -3.051758  -87.0    60.0 -420.0  \n",
       "...            ...    ...     ...    ...  \n",
       "440031   -4.760742 -382.5  1384.5  451.5  \n",
       "2079179  -0.183106 -520.5   126.0  699.0  \n",
       "188641   -0.122070  -12.0  1357.5  388.5  \n",
       "2412832 -14.160156 -685.5   909.0  907.5  \n",
       "572435    0.366211 -390.0   -15.0 -637.5  \n",
       "\n",
       "[2031844 rows x 10 columns]"
      ]
     },
     "execution_count": 15,
     "metadata": {},
     "output_type": "execute_result"
    }
   ],
   "source": [
    "X_train\n"
   ]
  },
  {
   "cell_type": "code",
   "execution_count": 16,
   "id": "fc6f0d02",
   "metadata": {},
   "outputs": [
    {
     "data": {
      "text/html": [
       "<div>\n",
       "<style scoped>\n",
       "    .dataframe tbody tr th:only-of-type {\n",
       "        vertical-align: middle;\n",
       "    }\n",
       "\n",
       "    .dataframe tbody tr th {\n",
       "        vertical-align: top;\n",
       "    }\n",
       "\n",
       "    .dataframe thead th {\n",
       "        text-align: right;\n",
       "    }\n",
       "</style>\n",
       "<table border=\"1\" class=\"dataframe\">\n",
       "  <thead>\n",
       "    <tr style=\"text-align: right;\">\n",
       "      <th></th>\n",
       "      <th>time</th>\n",
       "      <th>acc_x</th>\n",
       "      <th>acc_y</th>\n",
       "      <th>acc_z</th>\n",
       "      <th>gyr_x</th>\n",
       "      <th>gyr_y</th>\n",
       "      <th>gyr_z</th>\n",
       "      <th>mag_x</th>\n",
       "      <th>mag_y</th>\n",
       "      <th>mag_z</th>\n",
       "    </tr>\n",
       "  </thead>\n",
       "  <tbody>\n",
       "    <tr>\n",
       "      <th>318547</th>\n",
       "      <td>1628341223</td>\n",
       "      <td>-0.187988</td>\n",
       "      <td>0.972168</td>\n",
       "      <td>0.129883</td>\n",
       "      <td>0.915527</td>\n",
       "      <td>-1.403809</td>\n",
       "      <td>-0.122070</td>\n",
       "      <td>-435.0</td>\n",
       "      <td>1417.5</td>\n",
       "      <td>574.5</td>\n",
       "    </tr>\n",
       "    <tr>\n",
       "      <th>1950446</th>\n",
       "      <td>1628337367</td>\n",
       "      <td>-0.801270</td>\n",
       "      <td>0.549316</td>\n",
       "      <td>0.334961</td>\n",
       "      <td>0.671387</td>\n",
       "      <td>-27.099609</td>\n",
       "      <td>17.578125</td>\n",
       "      <td>-31.5</td>\n",
       "      <td>-27.0</td>\n",
       "      <td>496.5</td>\n",
       "    </tr>\n",
       "    <tr>\n",
       "      <th>1197485</th>\n",
       "      <td>1628310557</td>\n",
       "      <td>0.056152</td>\n",
       "      <td>0.788574</td>\n",
       "      <td>0.254883</td>\n",
       "      <td>-28.442383</td>\n",
       "      <td>-8.422852</td>\n",
       "      <td>-5.676270</td>\n",
       "      <td>285.0</td>\n",
       "      <td>-165.0</td>\n",
       "      <td>415.5</td>\n",
       "    </tr>\n",
       "    <tr>\n",
       "      <th>140539</th>\n",
       "      <td>1628333139</td>\n",
       "      <td>-0.069336</td>\n",
       "      <td>0.881348</td>\n",
       "      <td>0.462402</td>\n",
       "      <td>-1.342773</td>\n",
       "      <td>-7.202148</td>\n",
       "      <td>-1.953125</td>\n",
       "      <td>-111.0</td>\n",
       "      <td>1251.0</td>\n",
       "      <td>133.5</td>\n",
       "    </tr>\n",
       "    <tr>\n",
       "      <th>2155587</th>\n",
       "      <td>1628392811</td>\n",
       "      <td>-0.008301</td>\n",
       "      <td>0.952637</td>\n",
       "      <td>0.171387</td>\n",
       "      <td>4.394531</td>\n",
       "      <td>2.319336</td>\n",
       "      <td>-0.610352</td>\n",
       "      <td>-180.0</td>\n",
       "      <td>123.0</td>\n",
       "      <td>342.0</td>\n",
       "    </tr>\n",
       "    <tr>\n",
       "      <th>...</th>\n",
       "      <td>...</td>\n",
       "      <td>...</td>\n",
       "      <td>...</td>\n",
       "      <td>...</td>\n",
       "      <td>...</td>\n",
       "      <td>...</td>\n",
       "      <td>...</td>\n",
       "      <td>...</td>\n",
       "      <td>...</td>\n",
       "      <td>...</td>\n",
       "    </tr>\n",
       "    <tr>\n",
       "      <th>638995</th>\n",
       "      <td>1628331963</td>\n",
       "      <td>0.070801</td>\n",
       "      <td>-1.004883</td>\n",
       "      <td>0.250000</td>\n",
       "      <td>-1.464844</td>\n",
       "      <td>-3.356934</td>\n",
       "      <td>-15.380859</td>\n",
       "      <td>-177.0</td>\n",
       "      <td>88.5</td>\n",
       "      <td>-667.5</td>\n",
       "    </tr>\n",
       "    <tr>\n",
       "      <th>2014217</th>\n",
       "      <td>1628338892</td>\n",
       "      <td>0.069336</td>\n",
       "      <td>0.982422</td>\n",
       "      <td>0.185059</td>\n",
       "      <td>-6.042480</td>\n",
       "      <td>-11.230469</td>\n",
       "      <td>-24.597168</td>\n",
       "      <td>-754.5</td>\n",
       "      <td>124.5</td>\n",
       "      <td>477.0</td>\n",
       "    </tr>\n",
       "    <tr>\n",
       "      <th>1662635</th>\n",
       "      <td>1628391846</td>\n",
       "      <td>-0.099121</td>\n",
       "      <td>0.968262</td>\n",
       "      <td>-0.006348</td>\n",
       "      <td>-0.610352</td>\n",
       "      <td>-3.417969</td>\n",
       "      <td>-0.549316</td>\n",
       "      <td>-121.5</td>\n",
       "      <td>-183.0</td>\n",
       "      <td>241.5</td>\n",
       "    </tr>\n",
       "    <tr>\n",
       "      <th>481390</th>\n",
       "      <td>1628307745</td>\n",
       "      <td>-0.174316</td>\n",
       "      <td>-1.073242</td>\n",
       "      <td>0.100098</td>\n",
       "      <td>-3.234863</td>\n",
       "      <td>-16.662598</td>\n",
       "      <td>2.624512</td>\n",
       "      <td>-331.5</td>\n",
       "      <td>25.5</td>\n",
       "      <td>-498.0</td>\n",
       "    </tr>\n",
       "    <tr>\n",
       "      <th>2365814</th>\n",
       "      <td>1628333067</td>\n",
       "      <td>-0.185059</td>\n",
       "      <td>0.967773</td>\n",
       "      <td>-0.081055</td>\n",
       "      <td>0.915527</td>\n",
       "      <td>-5.249023</td>\n",
       "      <td>-1.953125</td>\n",
       "      <td>-544.5</td>\n",
       "      <td>1030.5</td>\n",
       "      <td>310.5</td>\n",
       "    </tr>\n",
       "  </tbody>\n",
       "</table>\n",
       "<p>507962 rows × 10 columns</p>\n",
       "</div>"
      ],
      "text/plain": [
       "               time     acc_x     acc_y     acc_z      gyr_x      gyr_y  \\\n",
       "318547   1628341223 -0.187988  0.972168  0.129883   0.915527  -1.403809   \n",
       "1950446  1628337367 -0.801270  0.549316  0.334961   0.671387 -27.099609   \n",
       "1197485  1628310557  0.056152  0.788574  0.254883 -28.442383  -8.422852   \n",
       "140539   1628333139 -0.069336  0.881348  0.462402  -1.342773  -7.202148   \n",
       "2155587  1628392811 -0.008301  0.952637  0.171387   4.394531   2.319336   \n",
       "...             ...       ...       ...       ...        ...        ...   \n",
       "638995   1628331963  0.070801 -1.004883  0.250000  -1.464844  -3.356934   \n",
       "2014217  1628338892  0.069336  0.982422  0.185059  -6.042480 -11.230469   \n",
       "1662635  1628391846 -0.099121  0.968262 -0.006348  -0.610352  -3.417969   \n",
       "481390   1628307745 -0.174316 -1.073242  0.100098  -3.234863 -16.662598   \n",
       "2365814  1628333067 -0.185059  0.967773 -0.081055   0.915527  -5.249023   \n",
       "\n",
       "             gyr_z  mag_x   mag_y  mag_z  \n",
       "318547   -0.122070 -435.0  1417.5  574.5  \n",
       "1950446  17.578125  -31.5   -27.0  496.5  \n",
       "1197485  -5.676270  285.0  -165.0  415.5  \n",
       "140539   -1.953125 -111.0  1251.0  133.5  \n",
       "2155587  -0.610352 -180.0   123.0  342.0  \n",
       "...            ...    ...     ...    ...  \n",
       "638995  -15.380859 -177.0    88.5 -667.5  \n",
       "2014217 -24.597168 -754.5   124.5  477.0  \n",
       "1662635  -0.549316 -121.5  -183.0  241.5  \n",
       "481390    2.624512 -331.5    25.5 -498.0  \n",
       "2365814  -1.953125 -544.5  1030.5  310.5  \n",
       "\n",
       "[507962 rows x 10 columns]"
      ]
     },
     "execution_count": 16,
     "metadata": {},
     "output_type": "execute_result"
    }
   ],
   "source": [
    "X_test"
   ]
  },
  {
   "cell_type": "code",
   "execution_count": 17,
   "id": "fbfcb07d",
   "metadata": {},
   "outputs": [
    {
     "data": {
      "text/plain": [
       "474995     4\n",
       "2393362    4\n",
       "2388475    4\n",
       "1709964    4\n",
       "524807     4\n",
       "          ..\n",
       "440031     4\n",
       "2079179    4\n",
       "188641     4\n",
       "2412832    4\n",
       "572435     4\n",
       "Name: label, Length: 2031844, dtype: int64"
      ]
     },
     "execution_count": 17,
     "metadata": {},
     "output_type": "execute_result"
    }
   ],
   "source": [
    "y_train"
   ]
  },
  {
   "cell_type": "code",
   "execution_count": 18,
   "id": "1fe1fb3c",
   "metadata": {},
   "outputs": [
    {
     "data": {
      "text/plain": [
       "474995     4\n",
       "2393362    4\n",
       "2388475    4\n",
       "1709964    4\n",
       "524807     4\n",
       "          ..\n",
       "440031     4\n",
       "2079179    4\n",
       "188641     4\n",
       "2412832    4\n",
       "572435     4\n",
       "Name: label, Length: 2031844, dtype: int64"
      ]
     },
     "execution_count": 18,
     "metadata": {},
     "output_type": "execute_result"
    }
   ],
   "source": [
    "y_train"
   ]
  },
  {
   "cell_type": "code",
   "execution_count": 19,
   "id": "05543909",
   "metadata": {},
   "outputs": [],
   "source": [
    "#Importing RandomForestRegresor from sklearn ensamble\n",
    "from sklearn.ensemble import RandomForestRegressor\n",
    "\n",
    "clf = RandomForestRegressor()"
   ]
  },
  {
   "cell_type": "code",
   "execution_count": 20,
   "id": "c81cf140",
   "metadata": {},
   "outputs": [
    {
     "data": {
      "text/plain": [
       "RandomForestRegressor()"
      ]
     },
     "execution_count": 20,
     "metadata": {},
     "output_type": "execute_result"
    }
   ],
   "source": [
    "#Fitting model into X & y train and test\n",
    "clf.fit(X_train, y_train)"
   ]
  },
  {
   "cell_type": "code",
   "execution_count": 21,
   "id": "8dfda809",
   "metadata": {},
   "outputs": [
    {
     "data": {
      "text/plain": [
       "RandomForestRegressor()"
      ]
     },
     "execution_count": 21,
     "metadata": {},
     "output_type": "execute_result"
    }
   ],
   "source": [
    "clf.fit(X_test, y_test)"
   ]
  },
  {
   "cell_type": "code",
   "execution_count": 22,
   "id": "dc458063",
   "metadata": {},
   "outputs": [
    {
     "data": {
      "text/plain": [
       "1.0"
      ]
     },
     "execution_count": 22,
     "metadata": {},
     "output_type": "execute_result"
    }
   ],
   "source": [
    "#Fitting model X & y into scoring \n",
    "clf.score(X_train,y_train)"
   ]
  },
  {
   "cell_type": "code",
   "execution_count": 23,
   "id": "e54ff2c4",
   "metadata": {},
   "outputs": [
    {
     "data": {
      "text/plain": [
       "1.0"
      ]
     },
     "execution_count": 23,
     "metadata": {},
     "output_type": "execute_result"
    }
   ],
   "source": [
    "clf.score(X_test,y_test)"
   ]
  },
  {
   "cell_type": "code",
   "execution_count": 24,
   "id": "d7460477",
   "metadata": {},
   "outputs": [],
   "source": [
    "y_pred = clf.predict(X_test)"
   ]
  },
  {
   "cell_type": "code",
   "execution_count": 25,
   "id": "2b96be5e",
   "metadata": {},
   "outputs": [
    {
     "data": {
      "text/plain": [
       "array([4., 4., 4., ..., 4., 4., 4.])"
      ]
     },
     "execution_count": 25,
     "metadata": {},
     "output_type": "execute_result"
    }
   ],
   "source": [
    "y_pred"
   ]
  },
  {
   "cell_type": "code",
   "execution_count": 26,
   "id": "0239d0f8",
   "metadata": {},
   "outputs": [],
   "source": [
    "#Importing classification reports from sklearn metrics\n",
    "from sklearn.metrics import classification_report"
   ]
  },
  {
   "cell_type": "code",
   "execution_count": 27,
   "id": "c75e0924",
   "metadata": {},
   "outputs": [
    {
     "name": "stdout",
     "output_type": "stream",
     "text": [
      "              precision    recall  f1-score   support\n",
      "\n",
      "           4       1.00      1.00      1.00    507962\n",
      "\n",
      "    accuracy                           1.00    507962\n",
      "   macro avg       1.00      1.00      1.00    507962\n",
      "weighted avg       1.00      1.00      1.00    507962\n",
      "\n"
     ]
    }
   ],
   "source": [
    "print(classification_report(y_test, y_pred))"
   ]
  },
  {
   "cell_type": "code",
   "execution_count": 28,
   "id": "df164410",
   "metadata": {},
   "outputs": [],
   "source": [
    "#From sklearn.metrics importing f1 score\n",
    "from sklearn.metrics import f1_score"
   ]
  },
  {
   "cell_type": "code",
   "execution_count": 29,
   "id": "a945b280",
   "metadata": {},
   "outputs": [],
   "source": [
    "f1=f1_score(y_test,y_pred,average=\"weighted\")"
   ]
  },
  {
   "cell_type": "code",
   "execution_count": 30,
   "id": "12e33305",
   "metadata": {},
   "outputs": [
    {
     "data": {
      "text/plain": [
       "1.0"
      ]
     },
     "execution_count": 30,
     "metadata": {},
     "output_type": "execute_result"
    }
   ],
   "source": [
    "f1"
   ]
  },
  {
   "cell_type": "code",
   "execution_count": null,
   "id": "02ad567f",
   "metadata": {},
   "outputs": [],
   "source": []
  }
 ],
 "metadata": {
  "kernelspec": {
   "display_name": "Python 3 (ipykernel)",
   "language": "python",
   "name": "python3"
  },
  "language_info": {
   "codemirror_mode": {
    "name": "ipython",
    "version": 3
   },
   "file_extension": ".py",
   "mimetype": "text/x-python",
   "name": "python",
   "nbconvert_exporter": "python",
   "pygments_lexer": "ipython3",
   "version": "3.9.7"
  }
 },
 "nbformat": 4,
 "nbformat_minor": 5
}
