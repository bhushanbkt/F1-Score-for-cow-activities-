{
 "cells": [
  {
   "cell_type": "markdown",
   "id": "7cc10a78",
   "metadata": {},
   "source": [
    "## Develping a model for  Predicting `F1 Score` for walking\n"
   ]
  },
  {
   "cell_type": "markdown",
   "id": "84345934",
   "metadata": {},
   "source": [
    "\n",
    "**We are building a model for cow walking activties which can predict F1 score**\n"
   ]
  },
  {
   "cell_type": "code",
   "execution_count": 47,
   "id": "ac58a29c",
   "metadata": {},
   "outputs": [
    {
     "data": {
      "image/png": "[encoded data removed]",
      "text/plain": [
       "<IPython.core.display.Image object>"
      ]
     },
     "execution_count": 47,
     "metadata": {
      "image/png": {
       "height": 100,
       "width": 500
      }
     },
     "output_type": "execute_result"
    }
   ],
   "source": [
    "cow"
   ]
  },
  {
   "cell_type": "code",
   "execution_count": 44,
   "id": "5e62276a",
   "metadata": {},
   "outputs": [],
   "source": [
    "cow=Image(\"images.png\",width=500,\n",
    "    height=100)"
   ]
  },
  {
   "cell_type": "code",
   "execution_count": 1,
   "id": "ca936aab",
   "metadata": {},
   "outputs": [],
   "source": [
    "#Imoprting tools we need\n",
    "import pandas as pd\n",
    "import numpy as np\n",
    "import matplotlib.pyplot as plt\n",
    "import seaborn as sns\n",
    "from IPython.display import Image\n",
    "\n",
    "\n",
    "%matplotlib inline"
   ]
  },
  {
   "cell_type": "code",
   "execution_count": 3,
   "id": "7da71436",
   "metadata": {},
   "outputs": [
    {
     "data": {
      "text/html": [
       "<div>\n",
       "<style scoped>\n",
       "    .dataframe tbody tr th:only-of-type {\n",
       "        vertical-align: middle;\n",
       "    }\n",
       "\n",
       "    .dataframe tbody tr th {\n",
       "        vertical-align: top;\n",
       "    }\n",
       "\n",
       "    .dataframe thead th {\n",
       "        text-align: right;\n",
       "    }\n",
       "</style>\n",
       "<table border=\"1\" class=\"dataframe\">\n",
       "  <thead>\n",
       "    <tr style=\"text-align: right;\">\n",
       "      <th></th>\n",
       "      <th>time</th>\n",
       "      <th>acc_x</th>\n",
       "      <th>acc_y</th>\n",
       "      <th>acc_z</th>\n",
       "      <th>gyr_x</th>\n",
       "      <th>gyr_y</th>\n",
       "      <th>gyr_z</th>\n",
       "      <th>mag_x</th>\n",
       "      <th>mag_y</th>\n",
       "      <th>mag_z</th>\n",
       "      <th>label</th>\n",
       "    </tr>\n",
       "  </thead>\n",
       "  <tbody>\n",
       "    <tr>\n",
       "      <th>0</th>\n",
       "      <td>1628079642</td>\n",
       "      <td>-0.220215</td>\n",
       "      <td>0.952637</td>\n",
       "      <td>0.196289</td>\n",
       "      <td>16.845703</td>\n",
       "      <td>-21.911621</td>\n",
       "      <td>1.098633</td>\n",
       "      <td>52.5</td>\n",
       "      <td>1305.0</td>\n",
       "      <td>312.0</td>\n",
       "      <td>3</td>\n",
       "    </tr>\n",
       "    <tr>\n",
       "      <th>1</th>\n",
       "      <td>1628079642</td>\n",
       "      <td>-0.241211</td>\n",
       "      <td>0.943848</td>\n",
       "      <td>0.182617</td>\n",
       "      <td>10.803223</td>\n",
       "      <td>-11.962891</td>\n",
       "      <td>5.920410</td>\n",
       "      <td>60.0</td>\n",
       "      <td>1311.0</td>\n",
       "      <td>333.0</td>\n",
       "      <td>3</td>\n",
       "    </tr>\n",
       "    <tr>\n",
       "      <th>2</th>\n",
       "      <td>1628079642</td>\n",
       "      <td>-0.230469</td>\n",
       "      <td>0.939453</td>\n",
       "      <td>0.226074</td>\n",
       "      <td>6.286621</td>\n",
       "      <td>-9.094238</td>\n",
       "      <td>8.117676</td>\n",
       "      <td>51.0</td>\n",
       "      <td>1302.0</td>\n",
       "      <td>346.5</td>\n",
       "      <td>3</td>\n",
       "    </tr>\n",
       "    <tr>\n",
       "      <th>3</th>\n",
       "      <td>1628079642</td>\n",
       "      <td>-0.229004</td>\n",
       "      <td>0.910156</td>\n",
       "      <td>0.264649</td>\n",
       "      <td>-0.061035</td>\n",
       "      <td>-9.948730</td>\n",
       "      <td>9.765625</td>\n",
       "      <td>45.0</td>\n",
       "      <td>1312.5</td>\n",
       "      <td>319.5</td>\n",
       "      <td>3</td>\n",
       "    </tr>\n",
       "    <tr>\n",
       "      <th>4</th>\n",
       "      <td>1628079642</td>\n",
       "      <td>-0.207519</td>\n",
       "      <td>0.914551</td>\n",
       "      <td>0.146973</td>\n",
       "      <td>-4.089355</td>\n",
       "      <td>-14.160156</td>\n",
       "      <td>11.718750</td>\n",
       "      <td>24.0</td>\n",
       "      <td>1314.0</td>\n",
       "      <td>331.5</td>\n",
       "      <td>3</td>\n",
       "    </tr>\n",
       "  </tbody>\n",
       "</table>\n",
       "</div>"
      ],
      "text/plain": [
       "         time     acc_x     acc_y     acc_z      gyr_x      gyr_y      gyr_z  \\\n",
       "0  1628079642 -0.220215  0.952637  0.196289  16.845703 -21.911621   1.098633   \n",
       "1  1628079642 -0.241211  0.943848  0.182617  10.803223 -11.962891   5.920410   \n",
       "2  1628079642 -0.230469  0.939453  0.226074   6.286621  -9.094238   8.117676   \n",
       "3  1628079642 -0.229004  0.910156  0.264649  -0.061035  -9.948730   9.765625   \n",
       "4  1628079642 -0.207519  0.914551  0.146973  -4.089355 -14.160156  11.718750   \n",
       "\n",
       "   mag_x   mag_y  mag_z  label  \n",
       "0   52.5  1305.0  312.0      3  \n",
       "1   60.0  1311.0  333.0      3  \n",
       "2   51.0  1302.0  346.5      3  \n",
       "3   45.0  1312.5  319.5      3  \n",
       "4   24.0  1314.0  331.5      3  "
      ]
     },
     "execution_count": 3,
     "metadata": {},
     "output_type": "execute_result"
    }
   ],
   "source": [
    "#Importing dataset\n",
    "df = pd.read_csv(\"W3_train.csv\")\n",
    "df.head()"
   ]
  },
  {
   "cell_type": "code",
   "execution_count": 17,
   "id": "af611ef6",
   "metadata": {},
   "outputs": [
    {
     "data": {
      "text/plain": [
       "145369"
      ]
     },
     "execution_count": 17,
     "metadata": {},
     "output_type": "execute_result"
    }
   ],
   "source": [
    "len(df)"
   ]
  },
  {
   "cell_type": "code",
   "execution_count": 5,
   "id": "67399f54",
   "metadata": {},
   "outputs": [
    {
     "data": {
      "text/plain": [
       "time       int64\n",
       "acc_x    float64\n",
       "acc_y    float64\n",
       "acc_z    float64\n",
       "gyr_x    float64\n",
       "gyr_y    float64\n",
       "gyr_z    float64\n",
       "mag_x    float64\n",
       "mag_y    float64\n",
       "mag_z    float64\n",
       "label      int64\n",
       "dtype: object"
      ]
     },
     "execution_count": 5,
     "metadata": {},
     "output_type": "execute_result"
    }
   ],
   "source": [
    "df.dtypes"
   ]
  },
  {
   "cell_type": "code",
   "execution_count": 18,
   "id": "fd64a8d2",
   "metadata": {},
   "outputs": [
    {
     "data": {
      "text/plain": [
       "3    145369\n",
       "Name: label, dtype: int64"
      ]
     },
     "execution_count": 18,
     "metadata": {},
     "output_type": "execute_result"
    }
   ],
   "source": [
    "df[\"label\"].value_counts()"
   ]
  },
  {
   "cell_type": "code",
   "execution_count": 7,
   "id": "0226a3aa",
   "metadata": {},
   "outputs": [
    {
     "data": {
      "text/html": [
       "<div>\n",
       "<style scoped>\n",
       "    .dataframe tbody tr th:only-of-type {\n",
       "        vertical-align: middle;\n",
       "    }\n",
       "\n",
       "    .dataframe tbody tr th {\n",
       "        vertical-align: top;\n",
       "    }\n",
       "\n",
       "    .dataframe thead th {\n",
       "        text-align: right;\n",
       "    }\n",
       "</style>\n",
       "<table border=\"1\" class=\"dataframe\">\n",
       "  <thead>\n",
       "    <tr style=\"text-align: right;\">\n",
       "      <th></th>\n",
       "      <th>time</th>\n",
       "      <th>acc_x</th>\n",
       "      <th>acc_y</th>\n",
       "      <th>acc_z</th>\n",
       "      <th>gyr_x</th>\n",
       "      <th>gyr_y</th>\n",
       "      <th>gyr_z</th>\n",
       "      <th>mag_x</th>\n",
       "      <th>mag_y</th>\n",
       "      <th>mag_z</th>\n",
       "      <th>label</th>\n",
       "    </tr>\n",
       "  </thead>\n",
       "  <tbody>\n",
       "    <tr>\n",
       "      <th>count</th>\n",
       "      <td>1.453690e+05</td>\n",
       "      <td>145369.000000</td>\n",
       "      <td>145369.000000</td>\n",
       "      <td>145369.000000</td>\n",
       "      <td>145369.000000</td>\n",
       "      <td>145369.000000</td>\n",
       "      <td>145369.000000</td>\n",
       "      <td>145369.000000</td>\n",
       "      <td>145369.000000</td>\n",
       "      <td>145369.000000</td>\n",
       "      <td>145369.0</td>\n",
       "    </tr>\n",
       "    <tr>\n",
       "      <th>mean</th>\n",
       "      <td>1.628189e+09</td>\n",
       "      <td>-0.014142</td>\n",
       "      <td>0.197847</td>\n",
       "      <td>0.162604</td>\n",
       "      <td>0.443991</td>\n",
       "      <td>-1.767942</td>\n",
       "      <td>-0.681841</td>\n",
       "      <td>-270.597187</td>\n",
       "      <td>462.828344</td>\n",
       "      <td>207.434907</td>\n",
       "      <td>3.0</td>\n",
       "    </tr>\n",
       "    <tr>\n",
       "      <th>std</th>\n",
       "      <td>7.942687e+04</td>\n",
       "      <td>0.283671</td>\n",
       "      <td>0.953655</td>\n",
       "      <td>0.239520</td>\n",
       "      <td>25.824908</td>\n",
       "      <td>41.348858</td>\n",
       "      <td>25.011255</td>\n",
       "      <td>318.726917</td>\n",
       "      <td>573.379663</td>\n",
       "      <td>396.147372</td>\n",
       "      <td>0.0</td>\n",
       "    </tr>\n",
       "    <tr>\n",
       "      <th>min</th>\n",
       "      <td>1.628079e+09</td>\n",
       "      <td>-14.734375</td>\n",
       "      <td>-4.904297</td>\n",
       "      <td>-13.041992</td>\n",
       "      <td>-931.457519</td>\n",
       "      <td>-1764.404297</td>\n",
       "      <td>-1834.228516</td>\n",
       "      <td>-1173.000000</td>\n",
       "      <td>-1057.500000</td>\n",
       "      <td>-958.500000</td>\n",
       "      <td>3.0</td>\n",
       "    </tr>\n",
       "    <tr>\n",
       "      <th>25%</th>\n",
       "      <td>1.628124e+09</td>\n",
       "      <td>-0.165527</td>\n",
       "      <td>-0.909180</td>\n",
       "      <td>0.051270</td>\n",
       "      <td>-10.437012</td>\n",
       "      <td>-21.240234</td>\n",
       "      <td>-12.512207</td>\n",
       "      <td>-489.000000</td>\n",
       "      <td>-3.000000</td>\n",
       "      <td>67.500000</td>\n",
       "      <td>3.0</td>\n",
       "    </tr>\n",
       "    <tr>\n",
       "      <th>50%</th>\n",
       "      <td>1.628172e+09</td>\n",
       "      <td>-0.013184</td>\n",
       "      <td>0.795410</td>\n",
       "      <td>0.171875</td>\n",
       "      <td>0.427246</td>\n",
       "      <td>-2.136230</td>\n",
       "      <td>-0.366211</td>\n",
       "      <td>-262.500000</td>\n",
       "      <td>642.000000</td>\n",
       "      <td>291.000000</td>\n",
       "      <td>3.0</td>\n",
       "    </tr>\n",
       "    <tr>\n",
       "      <th>75%</th>\n",
       "      <td>1.628252e+09</td>\n",
       "      <td>0.140625</td>\n",
       "      <td>0.967285</td>\n",
       "      <td>0.289062</td>\n",
       "      <td>11.596680</td>\n",
       "      <td>17.333984</td>\n",
       "      <td>11.352539</td>\n",
       "      <td>-75.000000</td>\n",
       "      <td>850.500000</td>\n",
       "      <td>495.000000</td>\n",
       "      <td>3.0</td>\n",
       "    </tr>\n",
       "    <tr>\n",
       "      <th>max</th>\n",
       "      <td>1.628338e+09</td>\n",
       "      <td>10.515137</td>\n",
       "      <td>11.826172</td>\n",
       "      <td>7.150879</td>\n",
       "      <td>1498.535156</td>\n",
       "      <td>1999.755859</td>\n",
       "      <td>793.579101</td>\n",
       "      <td>627.000000</td>\n",
       "      <td>1690.500000</td>\n",
       "      <td>1150.500000</td>\n",
       "      <td>3.0</td>\n",
       "    </tr>\n",
       "  </tbody>\n",
       "</table>\n",
       "</div>"
      ],
      "text/plain": [
       "               time          acc_x          acc_y          acc_z  \\\n",
       "count  1.453690e+05  145369.000000  145369.000000  145369.000000   \n",
       "mean   1.628189e+09      -0.014142       0.197847       0.162604   \n",
       "std    7.942687e+04       0.283671       0.953655       0.239520   \n",
       "min    1.628079e+09     -14.734375      -4.904297     -13.041992   \n",
       "25%    1.628124e+09      -0.165527      -0.909180       0.051270   \n",
       "50%    1.628172e+09      -0.013184       0.795410       0.171875   \n",
       "75%    1.628252e+09       0.140625       0.967285       0.289062   \n",
       "max    1.628338e+09      10.515137      11.826172       7.150879   \n",
       "\n",
       "               gyr_x          gyr_y          gyr_z          mag_x  \\\n",
       "count  145369.000000  145369.000000  145369.000000  145369.000000   \n",
       "mean        0.443991      -1.767942      -0.681841    -270.597187   \n",
       "std        25.824908      41.348858      25.011255     318.726917   \n",
       "min      -931.457519   -1764.404297   -1834.228516   -1173.000000   \n",
       "25%       -10.437012     -21.240234     -12.512207    -489.000000   \n",
       "50%         0.427246      -2.136230      -0.366211    -262.500000   \n",
       "75%        11.596680      17.333984      11.352539     -75.000000   \n",
       "max      1498.535156    1999.755859     793.579101     627.000000   \n",
       "\n",
       "               mag_y          mag_z     label  \n",
       "count  145369.000000  145369.000000  145369.0  \n",
       "mean      462.828344     207.434907       3.0  \n",
       "std       573.379663     396.147372       0.0  \n",
       "min     -1057.500000    -958.500000       3.0  \n",
       "25%        -3.000000      67.500000       3.0  \n",
       "50%       642.000000     291.000000       3.0  \n",
       "75%       850.500000     495.000000       3.0  \n",
       "max      1690.500000    1150.500000       3.0  "
      ]
     },
     "execution_count": 7,
     "metadata": {},
     "output_type": "execute_result"
    }
   ],
   "source": [
    "df.describe()"
   ]
  },
  {
   "cell_type": "code",
   "execution_count": 11,
   "id": "57ad6f37",
   "metadata": {},
   "outputs": [
    {
     "data": {
      "image/png": "[encoded data removed]",
      "text/plain": [
       "<Figure size 720x432 with 1 Axes>"
      ]
     },
     "metadata": {
      "needs_background": "light"
     },
     "output_type": "display_data"
    }
   ],
   "source": [
    "df.corr().plot(kind=\"bar\",\n",
    "              figsize=(10,6))\n",
    "plt.xticks(rotation=0);"
   ]
  },
  {
   "cell_type": "code",
   "execution_count": 12,
   "id": "ab941145",
   "metadata": {},
   "outputs": [
    {
     "data": {
      "image/png": "[encoded data removed]",
      "text/plain": [
       "<Figure size 864x432 with 2 Axes>"
      ]
     },
     "metadata": {
      "needs_background": "light"
     },
     "output_type": "display_data"
    }
   ],
   "source": [
    "cor_mat = df.corr()\n",
    "fig,ax = plt.subplots(figsize=(12,6))\n",
    "ax = sns.heatmap(cor_mat,\n",
    "                annot=True,\n",
    "                linewidths=0.5,\n",
    "                fmt=\".2f\")"
   ]
  },
  {
   "cell_type": "code",
   "execution_count": 13,
   "id": "da708b59",
   "metadata": {},
   "outputs": [],
   "source": [
    "#Importing train_test_split from sklearn model selaction\n",
    "from sklearn.model_selection import train_test_split\n",
    "\n",
    "\n",
    "#Creating X & y labels\n",
    "X = df.drop(\"label\",axis=1)\n",
    "y = df[\"label\"]\n",
    "\n",
    "#Spliting the data into traning and testing \n",
    "X_train , X_test, y_train, y_test = train_test_split(X,y,test_size=0.2) "
   ]
  },
  {
   "cell_type": "code",
   "execution_count": 14,
   "id": "55b86705",
   "metadata": {},
   "outputs": [
    {
     "data": {
      "text/html": [
       "<div>\n",
       "<style scoped>\n",
       "    .dataframe tbody tr th:only-of-type {\n",
       "        vertical-align: middle;\n",
       "    }\n",
       "\n",
       "    .dataframe tbody tr th {\n",
       "        vertical-align: top;\n",
       "    }\n",
       "\n",
       "    .dataframe thead th {\n",
       "        text-align: right;\n",
       "    }\n",
       "</style>\n",
       "<table border=\"1\" class=\"dataframe\">\n",
       "  <thead>\n",
       "    <tr style=\"text-align: right;\">\n",
       "      <th></th>\n",
       "      <th>time</th>\n",
       "      <th>acc_x</th>\n",
       "      <th>acc_y</th>\n",
       "      <th>acc_z</th>\n",
       "      <th>gyr_x</th>\n",
       "      <th>gyr_y</th>\n",
       "      <th>gyr_z</th>\n",
       "      <th>mag_x</th>\n",
       "      <th>mag_y</th>\n",
       "      <th>mag_z</th>\n",
       "    </tr>\n",
       "  </thead>\n",
       "  <tbody>\n",
       "    <tr>\n",
       "      <th>104921</th>\n",
       "      <td>1628079876</td>\n",
       "      <td>0.520020</td>\n",
       "      <td>0.697266</td>\n",
       "      <td>0.058105</td>\n",
       "      <td>21.911621</td>\n",
       "      <td>-5.981445</td>\n",
       "      <td>29.724121</td>\n",
       "      <td>-334.5</td>\n",
       "      <td>193.5</td>\n",
       "      <td>214.5</td>\n",
       "    </tr>\n",
       "    <tr>\n",
       "      <th>76690</th>\n",
       "      <td>1628334631</td>\n",
       "      <td>-0.069336</td>\n",
       "      <td>-1.071777</td>\n",
       "      <td>0.295410</td>\n",
       "      <td>22.644043</td>\n",
       "      <td>-24.047852</td>\n",
       "      <td>28.625488</td>\n",
       "      <td>-9.0</td>\n",
       "      <td>102.0</td>\n",
       "      <td>-568.5</td>\n",
       "    </tr>\n",
       "    <tr>\n",
       "      <th>108477</th>\n",
       "      <td>1628164661</td>\n",
       "      <td>0.244629</td>\n",
       "      <td>-0.802734</td>\n",
       "      <td>0.495605</td>\n",
       "      <td>-4.272461</td>\n",
       "      <td>46.386719</td>\n",
       "      <td>-18.249512</td>\n",
       "      <td>-643.5</td>\n",
       "      <td>-555.0</td>\n",
       "      <td>136.5</td>\n",
       "    </tr>\n",
       "    <tr>\n",
       "      <th>70081</th>\n",
       "      <td>1628251029</td>\n",
       "      <td>0.281250</td>\n",
       "      <td>-1.244629</td>\n",
       "      <td>0.155273</td>\n",
       "      <td>36.132812</td>\n",
       "      <td>-76.660156</td>\n",
       "      <td>3.601074</td>\n",
       "      <td>-691.5</td>\n",
       "      <td>93.0</td>\n",
       "      <td>-604.5</td>\n",
       "    </tr>\n",
       "    <tr>\n",
       "      <th>7203</th>\n",
       "      <td>1628080063</td>\n",
       "      <td>-0.332520</td>\n",
       "      <td>-1.295898</td>\n",
       "      <td>0.207519</td>\n",
       "      <td>-8.117676</td>\n",
       "      <td>8.972168</td>\n",
       "      <td>-22.460938</td>\n",
       "      <td>-408.0</td>\n",
       "      <td>652.5</td>\n",
       "      <td>154.5</td>\n",
       "    </tr>\n",
       "    <tr>\n",
       "      <th>...</th>\n",
       "      <td>...</td>\n",
       "      <td>...</td>\n",
       "      <td>...</td>\n",
       "      <td>...</td>\n",
       "      <td>...</td>\n",
       "      <td>...</td>\n",
       "      <td>...</td>\n",
       "      <td>...</td>\n",
       "      <td>...</td>\n",
       "      <td>...</td>\n",
       "    </tr>\n",
       "    <tr>\n",
       "      <th>65213</th>\n",
       "      <td>1628209997</td>\n",
       "      <td>0.287109</td>\n",
       "      <td>-1.025879</td>\n",
       "      <td>0.053223</td>\n",
       "      <td>1.831055</td>\n",
       "      <td>-6.958008</td>\n",
       "      <td>-17.395020</td>\n",
       "      <td>-91.5</td>\n",
       "      <td>30.0</td>\n",
       "      <td>-796.5</td>\n",
       "    </tr>\n",
       "    <tr>\n",
       "      <th>114746</th>\n",
       "      <td>1628211291</td>\n",
       "      <td>-0.130859</td>\n",
       "      <td>0.866699</td>\n",
       "      <td>0.414551</td>\n",
       "      <td>9.582520</td>\n",
       "      <td>-29.418945</td>\n",
       "      <td>-6.225586</td>\n",
       "      <td>-66.0</td>\n",
       "      <td>-60.0</td>\n",
       "      <td>487.5</td>\n",
       "    </tr>\n",
       "    <tr>\n",
       "      <th>119708</th>\n",
       "      <td>1628258227</td>\n",
       "      <td>0.065918</td>\n",
       "      <td>0.813965</td>\n",
       "      <td>-0.032715</td>\n",
       "      <td>-29.785156</td>\n",
       "      <td>31.372070</td>\n",
       "      <td>-15.869141</td>\n",
       "      <td>-817.5</td>\n",
       "      <td>108.0</td>\n",
       "      <td>468.0</td>\n",
       "    </tr>\n",
       "    <tr>\n",
       "      <th>56855</th>\n",
       "      <td>1628123593</td>\n",
       "      <td>0.049805</td>\n",
       "      <td>0.773926</td>\n",
       "      <td>0.270020</td>\n",
       "      <td>0.183106</td>\n",
       "      <td>64.147949</td>\n",
       "      <td>-14.953613</td>\n",
       "      <td>-280.5</td>\n",
       "      <td>655.5</td>\n",
       "      <td>-906.0</td>\n",
       "    </tr>\n",
       "    <tr>\n",
       "      <th>98874</th>\n",
       "      <td>1628302008</td>\n",
       "      <td>-0.060059</td>\n",
       "      <td>0.832031</td>\n",
       "      <td>0.142090</td>\n",
       "      <td>-24.902344</td>\n",
       "      <td>20.629883</td>\n",
       "      <td>23.559570</td>\n",
       "      <td>97.5</td>\n",
       "      <td>-208.5</td>\n",
       "      <td>216.0</td>\n",
       "    </tr>\n",
       "  </tbody>\n",
       "</table>\n",
       "<p>116295 rows × 10 columns</p>\n",
       "</div>"
      ],
      "text/plain": [
       "              time     acc_x     acc_y     acc_z      gyr_x      gyr_y  \\\n",
       "104921  1628079876  0.520020  0.697266  0.058105  21.911621  -5.981445   \n",
       "76690   1628334631 -0.069336 -1.071777  0.295410  22.644043 -24.047852   \n",
       "108477  1628164661  0.244629 -0.802734  0.495605  -4.272461  46.386719   \n",
       "70081   1628251029  0.281250 -1.244629  0.155273  36.132812 -76.660156   \n",
       "7203    1628080063 -0.332520 -1.295898  0.207519  -8.117676   8.972168   \n",
       "...            ...       ...       ...       ...        ...        ...   \n",
       "65213   1628209997  0.287109 -1.025879  0.053223   1.831055  -6.958008   \n",
       "114746  1628211291 -0.130859  0.866699  0.414551   9.582520 -29.418945   \n",
       "119708  1628258227  0.065918  0.813965 -0.032715 -29.785156  31.372070   \n",
       "56855   1628123593  0.049805  0.773926  0.270020   0.183106  64.147949   \n",
       "98874   1628302008 -0.060059  0.832031  0.142090 -24.902344  20.629883   \n",
       "\n",
       "            gyr_z  mag_x  mag_y  mag_z  \n",
       "104921  29.724121 -334.5  193.5  214.5  \n",
       "76690   28.625488   -9.0  102.0 -568.5  \n",
       "108477 -18.249512 -643.5 -555.0  136.5  \n",
       "70081    3.601074 -691.5   93.0 -604.5  \n",
       "7203   -22.460938 -408.0  652.5  154.5  \n",
       "...           ...    ...    ...    ...  \n",
       "65213  -17.395020  -91.5   30.0 -796.5  \n",
       "114746  -6.225586  -66.0  -60.0  487.5  \n",
       "119708 -15.869141 -817.5  108.0  468.0  \n",
       "56855  -14.953613 -280.5  655.5 -906.0  \n",
       "98874   23.559570   97.5 -208.5  216.0  \n",
       "\n",
       "[116295 rows x 10 columns]"
      ]
     },
     "execution_count": 14,
     "metadata": {},
     "output_type": "execute_result"
    }
   ],
   "source": [
    "X_train"
   ]
  },
  {
   "cell_type": "code",
   "execution_count": 15,
   "id": "5676de00",
   "metadata": {},
   "outputs": [
    {
     "data": {
      "text/html": [
       "<div>\n",
       "<style scoped>\n",
       "    .dataframe tbody tr th:only-of-type {\n",
       "        vertical-align: middle;\n",
       "    }\n",
       "\n",
       "    .dataframe tbody tr th {\n",
       "        vertical-align: top;\n",
       "    }\n",
       "\n",
       "    .dataframe thead th {\n",
       "        text-align: right;\n",
       "    }\n",
       "</style>\n",
       "<table border=\"1\" class=\"dataframe\">\n",
       "  <thead>\n",
       "    <tr style=\"text-align: right;\">\n",
       "      <th></th>\n",
       "      <th>time</th>\n",
       "      <th>acc_x</th>\n",
       "      <th>acc_y</th>\n",
       "      <th>acc_z</th>\n",
       "      <th>gyr_x</th>\n",
       "      <th>gyr_y</th>\n",
       "      <th>gyr_z</th>\n",
       "      <th>mag_x</th>\n",
       "      <th>mag_y</th>\n",
       "      <th>mag_z</th>\n",
       "    </tr>\n",
       "  </thead>\n",
       "  <tbody>\n",
       "    <tr>\n",
       "      <th>22271</th>\n",
       "      <td>1628165451</td>\n",
       "      <td>0.847168</td>\n",
       "      <td>-0.721191</td>\n",
       "      <td>0.123535</td>\n",
       "      <td>6.896973</td>\n",
       "      <td>-37.109375</td>\n",
       "      <td>-34.606934</td>\n",
       "      <td>-489.0</td>\n",
       "      <td>870.0</td>\n",
       "      <td>133.5</td>\n",
       "    </tr>\n",
       "    <tr>\n",
       "      <th>47766</th>\n",
       "      <td>1628338088</td>\n",
       "      <td>0.462891</td>\n",
       "      <td>0.918457</td>\n",
       "      <td>0.117676</td>\n",
       "      <td>-7.324219</td>\n",
       "      <td>-28.137207</td>\n",
       "      <td>-21.911621</td>\n",
       "      <td>-288.0</td>\n",
       "      <td>1425.0</td>\n",
       "      <td>612.0</td>\n",
       "    </tr>\n",
       "    <tr>\n",
       "      <th>25274</th>\n",
       "      <td>1628166232</td>\n",
       "      <td>-0.040527</td>\n",
       "      <td>-0.744141</td>\n",
       "      <td>-0.471680</td>\n",
       "      <td>2.502441</td>\n",
       "      <td>-23.315430</td>\n",
       "      <td>6.958008</td>\n",
       "      <td>-505.5</td>\n",
       "      <td>664.5</td>\n",
       "      <td>586.5</td>\n",
       "    </tr>\n",
       "    <tr>\n",
       "      <th>2321</th>\n",
       "      <td>1628079811</td>\n",
       "      <td>0.101562</td>\n",
       "      <td>0.906250</td>\n",
       "      <td>0.476074</td>\n",
       "      <td>40.954590</td>\n",
       "      <td>-28.625488</td>\n",
       "      <td>8.117676</td>\n",
       "      <td>102.0</td>\n",
       "      <td>1371.0</td>\n",
       "      <td>345.0</td>\n",
       "    </tr>\n",
       "    <tr>\n",
       "      <th>58934</th>\n",
       "      <td>1628165737</td>\n",
       "      <td>0.390625</td>\n",
       "      <td>1.149414</td>\n",
       "      <td>0.285645</td>\n",
       "      <td>20.507812</td>\n",
       "      <td>-0.244141</td>\n",
       "      <td>-6.225586</td>\n",
       "      <td>-165.0</td>\n",
       "      <td>700.5</td>\n",
       "      <td>-663.0</td>\n",
       "    </tr>\n",
       "    <tr>\n",
       "      <th>...</th>\n",
       "      <td>...</td>\n",
       "      <td>...</td>\n",
       "      <td>...</td>\n",
       "      <td>...</td>\n",
       "      <td>...</td>\n",
       "      <td>...</td>\n",
       "      <td>...</td>\n",
       "      <td>...</td>\n",
       "      <td>...</td>\n",
       "      <td>...</td>\n",
       "    </tr>\n",
       "    <tr>\n",
       "      <th>60060</th>\n",
       "      <td>1628165761</td>\n",
       "      <td>-0.030273</td>\n",
       "      <td>0.774414</td>\n",
       "      <td>0.104004</td>\n",
       "      <td>-23.620605</td>\n",
       "      <td>-3.051758</td>\n",
       "      <td>-1.220703</td>\n",
       "      <td>-61.5</td>\n",
       "      <td>801.0</td>\n",
       "      <td>-253.5</td>\n",
       "    </tr>\n",
       "    <tr>\n",
       "      <th>133454</th>\n",
       "      <td>1628164974</td>\n",
       "      <td>0.019043</td>\n",
       "      <td>1.017578</td>\n",
       "      <td>-0.097168</td>\n",
       "      <td>0.610352</td>\n",
       "      <td>-29.174805</td>\n",
       "      <td>30.578613</td>\n",
       "      <td>-358.5</td>\n",
       "      <td>1066.5</td>\n",
       "      <td>441.0</td>\n",
       "    </tr>\n",
       "    <tr>\n",
       "      <th>63501</th>\n",
       "      <td>1628209803</td>\n",
       "      <td>-0.105957</td>\n",
       "      <td>-1.113770</td>\n",
       "      <td>0.373047</td>\n",
       "      <td>-18.249512</td>\n",
       "      <td>12.268066</td>\n",
       "      <td>-15.686035</td>\n",
       "      <td>-354.0</td>\n",
       "      <td>24.0</td>\n",
       "      <td>-370.5</td>\n",
       "    </tr>\n",
       "    <tr>\n",
       "      <th>100888</th>\n",
       "      <td>1628337358</td>\n",
       "      <td>-0.070801</td>\n",
       "      <td>0.859375</td>\n",
       "      <td>0.248047</td>\n",
       "      <td>15.075683</td>\n",
       "      <td>4.760742</td>\n",
       "      <td>7.263184</td>\n",
       "      <td>231.0</td>\n",
       "      <td>-180.0</td>\n",
       "      <td>765.0</td>\n",
       "    </tr>\n",
       "    <tr>\n",
       "      <th>57081</th>\n",
       "      <td>1628123598</td>\n",
       "      <td>0.114258</td>\n",
       "      <td>0.990234</td>\n",
       "      <td>0.196289</td>\n",
       "      <td>2.441406</td>\n",
       "      <td>28.991699</td>\n",
       "      <td>-2.868652</td>\n",
       "      <td>-1.5</td>\n",
       "      <td>754.5</td>\n",
       "      <td>-513.0</td>\n",
       "    </tr>\n",
       "  </tbody>\n",
       "</table>\n",
       "<p>29074 rows × 10 columns</p>\n",
       "</div>"
      ],
      "text/plain": [
       "              time     acc_x     acc_y     acc_z      gyr_x      gyr_y  \\\n",
       "22271   1628165451  0.847168 -0.721191  0.123535   6.896973 -37.109375   \n",
       "47766   1628338088  0.462891  0.918457  0.117676  -7.324219 -28.137207   \n",
       "25274   1628166232 -0.040527 -0.744141 -0.471680   2.502441 -23.315430   \n",
       "2321    1628079811  0.101562  0.906250  0.476074  40.954590 -28.625488   \n",
       "58934   1628165737  0.390625  1.149414  0.285645  20.507812  -0.244141   \n",
       "...            ...       ...       ...       ...        ...        ...   \n",
       "60060   1628165761 -0.030273  0.774414  0.104004 -23.620605  -3.051758   \n",
       "133454  1628164974  0.019043  1.017578 -0.097168   0.610352 -29.174805   \n",
       "63501   1628209803 -0.105957 -1.113770  0.373047 -18.249512  12.268066   \n",
       "100888  1628337358 -0.070801  0.859375  0.248047  15.075683   4.760742   \n",
       "57081   1628123598  0.114258  0.990234  0.196289   2.441406  28.991699   \n",
       "\n",
       "            gyr_z  mag_x   mag_y  mag_z  \n",
       "22271  -34.606934 -489.0   870.0  133.5  \n",
       "47766  -21.911621 -288.0  1425.0  612.0  \n",
       "25274    6.958008 -505.5   664.5  586.5  \n",
       "2321     8.117676  102.0  1371.0  345.0  \n",
       "58934   -6.225586 -165.0   700.5 -663.0  \n",
       "...           ...    ...     ...    ...  \n",
       "60060   -1.220703  -61.5   801.0 -253.5  \n",
       "133454  30.578613 -358.5  1066.5  441.0  \n",
       "63501  -15.686035 -354.0    24.0 -370.5  \n",
       "100888   7.263184  231.0  -180.0  765.0  \n",
       "57081   -2.868652   -1.5   754.5 -513.0  \n",
       "\n",
       "[29074 rows x 10 columns]"
      ]
     },
     "execution_count": 15,
     "metadata": {},
     "output_type": "execute_result"
    }
   ],
   "source": [
    "X_test"
   ]
  },
  {
   "cell_type": "code",
   "execution_count": 16,
   "id": "120c834b",
   "metadata": {},
   "outputs": [
    {
     "data": {
      "text/plain": [
       "(116295, 29074)"
      ]
     },
     "execution_count": 16,
     "metadata": {},
     "output_type": "execute_result"
    }
   ],
   "source": [
    "len(X_train) , len(X_test)"
   ]
  },
  {
   "cell_type": "code",
   "execution_count": 19,
   "id": "f0a2038e",
   "metadata": {},
   "outputs": [],
   "source": [
    "# Importing RandomforesRegressor from sklearn's ensamble model \n",
    "from sklearn.ensemble import RandomForestRegressor\n",
    "\n",
    "clf = RandomForestRegressor()"
   ]
  },
  {
   "cell_type": "code",
   "execution_count": 20,
   "id": "f0ef240b",
   "metadata": {},
   "outputs": [
    {
     "data": {
      "text/plain": [
       "RandomForestRegressor()"
      ]
     },
     "execution_count": 20,
     "metadata": {},
     "output_type": "execute_result"
    }
   ],
   "source": [
    "clf.fit(X_train,y_train)"
   ]
  },
  {
   "cell_type": "code",
   "execution_count": 21,
   "id": "b96776b8",
   "metadata": {},
   "outputs": [
    {
     "data": {
      "text/plain": [
       "1.0"
      ]
     },
     "execution_count": 21,
     "metadata": {},
     "output_type": "execute_result"
    }
   ],
   "source": [
    "clf.score(X_train,y_train)"
   ]
  },
  {
   "cell_type": "code",
   "execution_count": 22,
   "id": "b9edfa93",
   "metadata": {},
   "outputs": [
    {
     "data": {
      "text/plain": [
       "1.0"
      ]
     },
     "execution_count": 22,
     "metadata": {},
     "output_type": "execute_result"
    }
   ],
   "source": [
    "clf.score(X_test,y_test)"
   ]
  },
  {
   "cell_type": "code",
   "execution_count": 25,
   "id": "47e1020a",
   "metadata": {},
   "outputs": [],
   "source": [
    "y_pred = clf.predict(X_test)"
   ]
  },
  {
   "cell_type": "code",
   "execution_count": 26,
   "id": "ebe71689",
   "metadata": {},
   "outputs": [
    {
     "data": {
      "text/plain": [
       "array([3., 3., 3., ..., 3., 3., 3.])"
      ]
     },
     "execution_count": 26,
     "metadata": {},
     "output_type": "execute_result"
    }
   ],
   "source": [
    "y_pred"
   ]
  },
  {
   "cell_type": "code",
   "execution_count": 27,
   "id": "28f129be",
   "metadata": {},
   "outputs": [
    {
     "data": {
      "text/plain": [
       "3.0"
      ]
     },
     "execution_count": 27,
     "metadata": {},
     "output_type": "execute_result"
    }
   ],
   "source": [
    "y_pred.mean()"
   ]
  },
  {
   "cell_type": "code",
   "execution_count": 28,
   "id": "79cc539d",
   "metadata": {},
   "outputs": [],
   "source": [
    "#Importing classification reports from sklearns metrics\n",
    "from sklearn.metrics import classification_report"
   ]
  },
  {
   "cell_type": "code",
   "execution_count": 29,
   "id": "b497a4a1",
   "metadata": {},
   "outputs": [
    {
     "name": "stdout",
     "output_type": "stream",
     "text": [
      "              precision    recall  f1-score   support\n",
      "\n",
      "           3       1.00      1.00      1.00     29074\n",
      "\n",
      "    accuracy                           1.00     29074\n",
      "   macro avg       1.00      1.00      1.00     29074\n",
      "weighted avg       1.00      1.00      1.00     29074\n",
      "\n"
     ]
    }
   ],
   "source": [
    "#Creating classification report\n",
    "print(classification_report(y_test,y_pred))"
   ]
  },
  {
   "cell_type": "code",
   "execution_count": 30,
   "id": "4b13e233",
   "metadata": {},
   "outputs": [],
   "source": [
    "#Importing F1 score from sklaern metrics\n",
    "from sklearn.metrics import f1_score\n"
   ]
  },
  {
   "cell_type": "code",
   "execution_count": 35,
   "id": "a04c6043",
   "metadata": {},
   "outputs": [
    {
     "data": {
      "text/plain": [
       "1.0"
      ]
     },
     "execution_count": 35,
     "metadata": {},
     "output_type": "execute_result"
    }
   ],
   "source": [
    "f1_score(y_test,y_pred, average='weighted')\n"
   ]
  },
  {
   "cell_type": "code",
   "execution_count": 37,
   "id": "b19be3f5",
   "metadata": {},
   "outputs": [
    {
     "data": {
      "text/plain": [
       "1.0"
      ]
     },
     "execution_count": 37,
     "metadata": {},
     "output_type": "execute_result"
    }
   ],
   "source": [
    "f1"
   ]
  },
  {
   "cell_type": "code",
   "execution_count": null,
   "id": "5165de1f",
   "metadata": {},
   "outputs": [],
   "source": []
  }
 ],
 "metadata": {
  "kernelspec": {
   "display_name": "Python 3 (ipykernel)",
   "language": "python",
   "name": "python3"
  },
  "language_info": {
   "codemirror_mode": {
    "name": "ipython",
    "version": 3
   },
   "file_extension": ".py",
   "mimetype": "text/x-python",
   "name": "python",
   "nbconvert_exporter": "python",
   "pygments_lexer": "ipython3",
   "version": "3.9.7"
  }
 },
 "nbformat": 4,
 "nbformat_minor": 5
}
