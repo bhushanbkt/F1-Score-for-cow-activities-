{
 "cells": [
  {
   "cell_type": "markdown",
   "id": "4a35ab37",
   "metadata": {},
   "source": [
    "# Predicting F1 Score for Drinking\n"
   ]
  },
  {
   "cell_type": "code",
   "execution_count": 110,
   "id": "bc474f59",
   "metadata": {},
   "outputs": [
    {
     "data": {
      "image/png": "[encoded data removed]",
      "text/plain": [
       "<IPython.core.display.Image object>"
      ]
     },
     "execution_count": 110,
     "metadata": {},
     "output_type": "execute_result"
    }
   ],
   "source": [
    "COw=Image(\"download.png\",)\n",
    "COw"
   ]
  },
  {
   "cell_type": "markdown",
   "id": "998eb8f7",
   "metadata": {},
   "source": [
    "\n",
    "**We are building a model for `Cow` activities which can predict F1 score  above 80%. ** "
   ]
  },
  {
   "cell_type": "code",
   "execution_count": 101,
   "id": "1001c04e",
   "metadata": {},
   "outputs": [],
   "source": [
    "#Importing tool we need\n",
    "import numpy as np\n",
    "import pandas as pd\n",
    "import matplotlib.pyplot as plt\n",
    "import seaborn as sns\n",
    "from IPython.display import Image\n",
    "%matplotlib inline\n",
    "\n",
    "\n",
    "#Model evluation \n",
    "from sklearn.model_selection import train_test_split , cross_val_score"
   ]
  },
  {
   "cell_type": "code",
   "execution_count": 4,
   "id": "9985473a",
   "metadata": {},
   "outputs": [],
   "source": [
    "d2=pd.read_csv(\"D2_train.csv\")"
   ]
  },
  {
   "cell_type": "code",
   "execution_count": 5,
   "id": "85c8ec26",
   "metadata": {},
   "outputs": [
    {
     "name": "stdout",
     "output_type": "stream",
     "text": [
      "<class 'pandas.core.frame.DataFrame'>\n",
      "RangeIndex: 54439 entries, 0 to 54438\n",
      "Data columns (total 11 columns):\n",
      " #   Column  Non-Null Count  Dtype  \n",
      "---  ------  --------------  -----  \n",
      " 0   time    54439 non-null  int64  \n",
      " 1   acc_x   54439 non-null  float64\n",
      " 2   acc_y   54439 non-null  float64\n",
      " 3   acc_z   54439 non-null  float64\n",
      " 4   gyr_x   54439 non-null  float64\n",
      " 5   gyr_y   54439 non-null  float64\n",
      " 6   gyr_z   54439 non-null  float64\n",
      " 7   mag_x   54439 non-null  float64\n",
      " 8   mag_y   54439 non-null  float64\n",
      " 9   mag_z   54439 non-null  float64\n",
      " 10  label   54439 non-null  int64  \n",
      "dtypes: float64(9), int64(2)\n",
      "memory usage: 4.6 MB\n"
     ]
    }
   ],
   "source": [
    "d2.info()"
   ]
  },
  {
   "cell_type": "code",
   "execution_count": 6,
   "id": "8b0ce7b6",
   "metadata": {},
   "outputs": [
    {
     "data": {
      "text/html": [
       "<div>\n",
       "<style scoped>\n",
       "    .dataframe tbody tr th:only-of-type {\n",
       "        vertical-align: middle;\n",
       "    }\n",
       "\n",
       "    .dataframe tbody tr th {\n",
       "        vertical-align: top;\n",
       "    }\n",
       "\n",
       "    .dataframe thead th {\n",
       "        text-align: right;\n",
       "    }\n",
       "</style>\n",
       "<table border=\"1\" class=\"dataframe\">\n",
       "  <thead>\n",
       "    <tr style=\"text-align: right;\">\n",
       "      <th></th>\n",
       "      <th>time</th>\n",
       "      <th>acc_x</th>\n",
       "      <th>acc_y</th>\n",
       "      <th>acc_z</th>\n",
       "      <th>gyr_x</th>\n",
       "      <th>gyr_y</th>\n",
       "      <th>gyr_z</th>\n",
       "      <th>mag_x</th>\n",
       "      <th>mag_y</th>\n",
       "      <th>mag_z</th>\n",
       "      <th>label</th>\n",
       "    </tr>\n",
       "  </thead>\n",
       "  <tbody>\n",
       "    <tr>\n",
       "      <th>0</th>\n",
       "      <td>1628079761</td>\n",
       "      <td>-0.187012</td>\n",
       "      <td>1.071289</td>\n",
       "      <td>0.321289</td>\n",
       "      <td>7.934570</td>\n",
       "      <td>-40.527344</td>\n",
       "      <td>17.028809</td>\n",
       "      <td>-526.5</td>\n",
       "      <td>1437.0</td>\n",
       "      <td>513.0</td>\n",
       "      <td>2</td>\n",
       "    </tr>\n",
       "    <tr>\n",
       "      <th>1</th>\n",
       "      <td>1628079761</td>\n",
       "      <td>-0.137207</td>\n",
       "      <td>1.099121</td>\n",
       "      <td>0.294922</td>\n",
       "      <td>0.305176</td>\n",
       "      <td>-44.677734</td>\n",
       "      <td>15.930176</td>\n",
       "      <td>-528.0</td>\n",
       "      <td>1423.5</td>\n",
       "      <td>495.0</td>\n",
       "      <td>2</td>\n",
       "    </tr>\n",
       "    <tr>\n",
       "      <th>2</th>\n",
       "      <td>1628079761</td>\n",
       "      <td>0.028320</td>\n",
       "      <td>1.053711</td>\n",
       "      <td>0.215820</td>\n",
       "      <td>-9.216309</td>\n",
       "      <td>-42.541504</td>\n",
       "      <td>10.681152</td>\n",
       "      <td>-510.0</td>\n",
       "      <td>1419.0</td>\n",
       "      <td>484.5</td>\n",
       "      <td>2</td>\n",
       "    </tr>\n",
       "    <tr>\n",
       "      <th>3</th>\n",
       "      <td>1628079761</td>\n",
       "      <td>0.151856</td>\n",
       "      <td>0.960938</td>\n",
       "      <td>0.206543</td>\n",
       "      <td>-15.502930</td>\n",
       "      <td>-31.433105</td>\n",
       "      <td>4.943848</td>\n",
       "      <td>-529.5</td>\n",
       "      <td>1428.0</td>\n",
       "      <td>496.5</td>\n",
       "      <td>2</td>\n",
       "    </tr>\n",
       "    <tr>\n",
       "      <th>4</th>\n",
       "      <td>1628079761</td>\n",
       "      <td>0.171387</td>\n",
       "      <td>0.883301</td>\n",
       "      <td>0.247070</td>\n",
       "      <td>-0.061035</td>\n",
       "      <td>-27.832031</td>\n",
       "      <td>-2.685547</td>\n",
       "      <td>-526.5</td>\n",
       "      <td>1420.5</td>\n",
       "      <td>505.5</td>\n",
       "      <td>2</td>\n",
       "    </tr>\n",
       "  </tbody>\n",
       "</table>\n",
       "</div>"
      ],
      "text/plain": [
       "         time     acc_x     acc_y     acc_z      gyr_x      gyr_y      gyr_z  \\\n",
       "0  1628079761 -0.187012  1.071289  0.321289   7.934570 -40.527344  17.028809   \n",
       "1  1628079761 -0.137207  1.099121  0.294922   0.305176 -44.677734  15.930176   \n",
       "2  1628079761  0.028320  1.053711  0.215820  -9.216309 -42.541504  10.681152   \n",
       "3  1628079761  0.151856  0.960938  0.206543 -15.502930 -31.433105   4.943848   \n",
       "4  1628079761  0.171387  0.883301  0.247070  -0.061035 -27.832031  -2.685547   \n",
       "\n",
       "   mag_x   mag_y  mag_z  label  \n",
       "0 -526.5  1437.0  513.0      2  \n",
       "1 -528.0  1423.5  495.0      2  \n",
       "2 -510.0  1419.0  484.5      2  \n",
       "3 -529.5  1428.0  496.5      2  \n",
       "4 -526.5  1420.5  505.5      2  "
      ]
     },
     "execution_count": 6,
     "metadata": {},
     "output_type": "execute_result"
    }
   ],
   "source": [
    "d2.head()"
   ]
  },
  {
   "cell_type": "code",
   "execution_count": 9,
   "id": "e2a21f78",
   "metadata": {},
   "outputs": [
    {
     "data": {
      "text/plain": [
       "2    54439\n",
       "Name: label, dtype: int64"
      ]
     },
     "execution_count": 9,
     "metadata": {},
     "output_type": "execute_result"
    }
   ],
   "source": [
    "##Viewing feature variables & Data Analysis\n",
    "d2.label.value_counts()"
   ]
  },
  {
   "cell_type": "code",
   "execution_count": 12,
   "id": "6548a205",
   "metadata": {},
   "outputs": [
    {
     "data": {
      "text/plain": [
       "time     0\n",
       "acc_x    0\n",
       "acc_y    0\n",
       "acc_z    0\n",
       "gyr_x    0\n",
       "gyr_y    0\n",
       "gyr_z    0\n",
       "mag_x    0\n",
       "mag_y    0\n",
       "mag_z    0\n",
       "label    0\n",
       "dtype: int64"
      ]
     },
     "execution_count": 12,
     "metadata": {},
     "output_type": "execute_result"
    }
   ],
   "source": [
    "d2.isna().sum()"
   ]
  },
  {
   "cell_type": "code",
   "execution_count": 13,
   "id": "25a1adac",
   "metadata": {},
   "outputs": [
    {
     "data": {
      "text/html": [
       "<div>\n",
       "<style scoped>\n",
       "    .dataframe tbody tr th:only-of-type {\n",
       "        vertical-align: middle;\n",
       "    }\n",
       "\n",
       "    .dataframe tbody tr th {\n",
       "        vertical-align: top;\n",
       "    }\n",
       "\n",
       "    .dataframe thead th {\n",
       "        text-align: right;\n",
       "    }\n",
       "</style>\n",
       "<table border=\"1\" class=\"dataframe\">\n",
       "  <thead>\n",
       "    <tr style=\"text-align: right;\">\n",
       "      <th></th>\n",
       "      <th>time</th>\n",
       "      <th>acc_x</th>\n",
       "      <th>acc_y</th>\n",
       "      <th>acc_z</th>\n",
       "      <th>gyr_x</th>\n",
       "      <th>gyr_y</th>\n",
       "      <th>gyr_z</th>\n",
       "      <th>mag_x</th>\n",
       "      <th>mag_y</th>\n",
       "      <th>mag_z</th>\n",
       "      <th>label</th>\n",
       "    </tr>\n",
       "  </thead>\n",
       "  <tbody>\n",
       "    <tr>\n",
       "      <th>count</th>\n",
       "      <td>5.443900e+04</td>\n",
       "      <td>54439.000000</td>\n",
       "      <td>54439.000000</td>\n",
       "      <td>54439.000000</td>\n",
       "      <td>54439.000000</td>\n",
       "      <td>54439.000000</td>\n",
       "      <td>54439.000000</td>\n",
       "      <td>54439.000000</td>\n",
       "      <td>54439.000000</td>\n",
       "      <td>54439.000000</td>\n",
       "      <td>54439.0</td>\n",
       "    </tr>\n",
       "    <tr>\n",
       "      <th>mean</th>\n",
       "      <td>1.628194e+09</td>\n",
       "      <td>-0.080071</td>\n",
       "      <td>0.688848</td>\n",
       "      <td>0.169730</td>\n",
       "      <td>0.846126</td>\n",
       "      <td>-2.055915</td>\n",
       "      <td>-0.677698</td>\n",
       "      <td>-204.810687</td>\n",
       "      <td>530.212789</td>\n",
       "      <td>159.630485</td>\n",
       "      <td>2.0</td>\n",
       "    </tr>\n",
       "    <tr>\n",
       "      <th>std</th>\n",
       "      <td>9.713158e+04</td>\n",
       "      <td>0.307579</td>\n",
       "      <td>0.609802</td>\n",
       "      <td>0.132971</td>\n",
       "      <td>6.526951</td>\n",
       "      <td>11.560896</td>\n",
       "      <td>6.492925</td>\n",
       "      <td>222.727130</td>\n",
       "      <td>565.884673</td>\n",
       "      <td>483.991502</td>\n",
       "      <td>0.0</td>\n",
       "    </tr>\n",
       "    <tr>\n",
       "      <th>min</th>\n",
       "      <td>1.628079e+09</td>\n",
       "      <td>-1.018555</td>\n",
       "      <td>-1.359863</td>\n",
       "      <td>-0.952637</td>\n",
       "      <td>-98.083496</td>\n",
       "      <td>-258.728027</td>\n",
       "      <td>-152.221680</td>\n",
       "      <td>-775.500000</td>\n",
       "      <td>-355.500000</td>\n",
       "      <td>-886.500000</td>\n",
       "      <td>2.0</td>\n",
       "    </tr>\n",
       "    <tr>\n",
       "      <th>25%</th>\n",
       "      <td>1.628124e+09</td>\n",
       "      <td>-0.252930</td>\n",
       "      <td>0.838379</td>\n",
       "      <td>0.107910</td>\n",
       "      <td>-1.525879</td>\n",
       "      <td>-4.943848</td>\n",
       "      <td>-2.563477</td>\n",
       "      <td>-324.000000</td>\n",
       "      <td>4.500000</td>\n",
       "      <td>-345.000000</td>\n",
       "      <td>2.0</td>\n",
       "    </tr>\n",
       "    <tr>\n",
       "      <th>50%</th>\n",
       "      <td>1.628166e+09</td>\n",
       "      <td>-0.127441</td>\n",
       "      <td>0.933594</td>\n",
       "      <td>0.171387</td>\n",
       "      <td>0.854492</td>\n",
       "      <td>-2.014160</td>\n",
       "      <td>-0.671387</td>\n",
       "      <td>-211.500000</td>\n",
       "      <td>640.500000</td>\n",
       "      <td>349.500000</td>\n",
       "      <td>2.0</td>\n",
       "    </tr>\n",
       "    <tr>\n",
       "      <th>75%</th>\n",
       "      <td>1.628252e+09</td>\n",
       "      <td>0.142090</td>\n",
       "      <td>0.963867</td>\n",
       "      <td>0.261719</td>\n",
       "      <td>3.112793</td>\n",
       "      <td>1.159668</td>\n",
       "      <td>1.220703</td>\n",
       "      <td>-18.000000</td>\n",
       "      <td>835.500000</td>\n",
       "      <td>498.000000</td>\n",
       "      <td>2.0</td>\n",
       "    </tr>\n",
       "    <tr>\n",
       "      <th>max</th>\n",
       "      <td>1.628400e+09</td>\n",
       "      <td>1.488770</td>\n",
       "      <td>1.865723</td>\n",
       "      <td>5.983398</td>\n",
       "      <td>147.460938</td>\n",
       "      <td>380.004883</td>\n",
       "      <td>157.714844</td>\n",
       "      <td>168.000000</td>\n",
       "      <td>1498.500000</td>\n",
       "      <td>852.000000</td>\n",
       "      <td>2.0</td>\n",
       "    </tr>\n",
       "  </tbody>\n",
       "</table>\n",
       "</div>"
      ],
      "text/plain": [
       "               time         acc_x         acc_y         acc_z         gyr_x  \\\n",
       "count  5.443900e+04  54439.000000  54439.000000  54439.000000  54439.000000   \n",
       "mean   1.628194e+09     -0.080071      0.688848      0.169730      0.846126   \n",
       "std    9.713158e+04      0.307579      0.609802      0.132971      6.526951   \n",
       "min    1.628079e+09     -1.018555     -1.359863     -0.952637    -98.083496   \n",
       "25%    1.628124e+09     -0.252930      0.838379      0.107910     -1.525879   \n",
       "50%    1.628166e+09     -0.127441      0.933594      0.171387      0.854492   \n",
       "75%    1.628252e+09      0.142090      0.963867      0.261719      3.112793   \n",
       "max    1.628400e+09      1.488770      1.865723      5.983398    147.460938   \n",
       "\n",
       "              gyr_y         gyr_z         mag_x         mag_y         mag_z  \\\n",
       "count  54439.000000  54439.000000  54439.000000  54439.000000  54439.000000   \n",
       "mean      -2.055915     -0.677698   -204.810687    530.212789    159.630485   \n",
       "std       11.560896      6.492925    222.727130    565.884673    483.991502   \n",
       "min     -258.728027   -152.221680   -775.500000   -355.500000   -886.500000   \n",
       "25%       -4.943848     -2.563477   -324.000000      4.500000   -345.000000   \n",
       "50%       -2.014160     -0.671387   -211.500000    640.500000    349.500000   \n",
       "75%        1.159668      1.220703    -18.000000    835.500000    498.000000   \n",
       "max      380.004883    157.714844    168.000000   1498.500000    852.000000   \n",
       "\n",
       "         label  \n",
       "count  54439.0  \n",
       "mean       2.0  \n",
       "std        0.0  \n",
       "min        2.0  \n",
       "25%        2.0  \n",
       "50%        2.0  \n",
       "75%        2.0  \n",
       "max        2.0  "
      ]
     },
     "execution_count": 13,
     "metadata": {},
     "output_type": "execute_result"
    }
   ],
   "source": [
    "d2.describe()"
   ]
  },
  {
   "cell_type": "code",
   "execution_count": 18,
   "id": "4c2d6fad",
   "metadata": {},
   "outputs": [
    {
     "data": {
      "image/png": "[encoded data removed]",
      "text/plain": [
       "<Figure size 432x288 with 1 Axes>"
      ]
     },
     "metadata": {
      "needs_background": "light"
     },
     "output_type": "display_data"
    }
   ],
   "source": [
    "d2[\"time\"].plot.hist();"
   ]
  },
  {
   "cell_type": "code",
   "execution_count": 22,
   "id": "4948af59",
   "metadata": {},
   "outputs": [
    {
     "data": {
      "text/html": [
       "<div>\n",
       "<style scoped>\n",
       "    .dataframe tbody tr th:only-of-type {\n",
       "        vertical-align: middle;\n",
       "    }\n",
       "\n",
       "    .dataframe tbody tr th {\n",
       "        vertical-align: top;\n",
       "    }\n",
       "\n",
       "    .dataframe thead th {\n",
       "        text-align: right;\n",
       "    }\n",
       "</style>\n",
       "<table border=\"1\" class=\"dataframe\">\n",
       "  <thead>\n",
       "    <tr style=\"text-align: right;\">\n",
       "      <th></th>\n",
       "      <th>time</th>\n",
       "      <th>acc_x</th>\n",
       "      <th>acc_y</th>\n",
       "      <th>acc_z</th>\n",
       "      <th>gyr_x</th>\n",
       "      <th>gyr_y</th>\n",
       "      <th>gyr_z</th>\n",
       "      <th>mag_x</th>\n",
       "      <th>mag_y</th>\n",
       "      <th>mag_z</th>\n",
       "      <th>label</th>\n",
       "    </tr>\n",
       "  </thead>\n",
       "  <tbody>\n",
       "    <tr>\n",
       "      <th>time</th>\n",
       "      <td>1.000000</td>\n",
       "      <td>0.256811</td>\n",
       "      <td>0.068853</td>\n",
       "      <td>-0.378580</td>\n",
       "      <td>-0.027247</td>\n",
       "      <td>-0.028181</td>\n",
       "      <td>-0.025370</td>\n",
       "      <td>-0.206664</td>\n",
       "      <td>0.183603</td>\n",
       "      <td>0.196322</td>\n",
       "      <td>NaN</td>\n",
       "    </tr>\n",
       "    <tr>\n",
       "      <th>acc_x</th>\n",
       "      <td>0.256811</td>\n",
       "      <td>1.000000</td>\n",
       "      <td>-0.135038</td>\n",
       "      <td>0.011197</td>\n",
       "      <td>-0.065777</td>\n",
       "      <td>0.032644</td>\n",
       "      <td>0.022999</td>\n",
       "      <td>-0.509343</td>\n",
       "      <td>0.133706</td>\n",
       "      <td>0.268030</td>\n",
       "      <td>NaN</td>\n",
       "    </tr>\n",
       "    <tr>\n",
       "      <th>acc_y</th>\n",
       "      <td>0.068853</td>\n",
       "      <td>-0.135038</td>\n",
       "      <td>1.000000</td>\n",
       "      <td>-0.215527</td>\n",
       "      <td>0.000887</td>\n",
       "      <td>0.004718</td>\n",
       "      <td>0.000419</td>\n",
       "      <td>0.065785</td>\n",
       "      <td>0.044235</td>\n",
       "      <td>0.251206</td>\n",
       "      <td>NaN</td>\n",
       "    </tr>\n",
       "    <tr>\n",
       "      <th>acc_z</th>\n",
       "      <td>-0.378580</td>\n",
       "      <td>0.011197</td>\n",
       "      <td>-0.215527</td>\n",
       "      <td>1.000000</td>\n",
       "      <td>-0.004675</td>\n",
       "      <td>-0.006845</td>\n",
       "      <td>0.008129</td>\n",
       "      <td>-0.159903</td>\n",
       "      <td>-0.202634</td>\n",
       "      <td>0.097816</td>\n",
       "      <td>NaN</td>\n",
       "    </tr>\n",
       "    <tr>\n",
       "      <th>gyr_x</th>\n",
       "      <td>-0.027247</td>\n",
       "      <td>-0.065777</td>\n",
       "      <td>0.000887</td>\n",
       "      <td>-0.004675</td>\n",
       "      <td>1.000000</td>\n",
       "      <td>-0.101733</td>\n",
       "      <td>-0.024195</td>\n",
       "      <td>0.068246</td>\n",
       "      <td>-0.007802</td>\n",
       "      <td>-0.071916</td>\n",
       "      <td>NaN</td>\n",
       "    </tr>\n",
       "    <tr>\n",
       "      <th>gyr_y</th>\n",
       "      <td>-0.028181</td>\n",
       "      <td>0.032644</td>\n",
       "      <td>0.004718</td>\n",
       "      <td>-0.006845</td>\n",
       "      <td>-0.101733</td>\n",
       "      <td>1.000000</td>\n",
       "      <td>0.036361</td>\n",
       "      <td>-0.052816</td>\n",
       "      <td>0.055389</td>\n",
       "      <td>0.057964</td>\n",
       "      <td>NaN</td>\n",
       "    </tr>\n",
       "    <tr>\n",
       "      <th>gyr_z</th>\n",
       "      <td>-0.025370</td>\n",
       "      <td>0.022999</td>\n",
       "      <td>0.000419</td>\n",
       "      <td>0.008129</td>\n",
       "      <td>-0.024195</td>\n",
       "      <td>0.036361</td>\n",
       "      <td>1.000000</td>\n",
       "      <td>-0.017571</td>\n",
       "      <td>-0.027115</td>\n",
       "      <td>0.024008</td>\n",
       "      <td>NaN</td>\n",
       "    </tr>\n",
       "    <tr>\n",
       "      <th>mag_x</th>\n",
       "      <td>-0.206664</td>\n",
       "      <td>-0.509343</td>\n",
       "      <td>0.065785</td>\n",
       "      <td>-0.159903</td>\n",
       "      <td>0.068246</td>\n",
       "      <td>-0.052816</td>\n",
       "      <td>-0.017571</td>\n",
       "      <td>1.000000</td>\n",
       "      <td>-0.451124</td>\n",
       "      <td>-0.703898</td>\n",
       "      <td>NaN</td>\n",
       "    </tr>\n",
       "    <tr>\n",
       "      <th>mag_y</th>\n",
       "      <td>0.183603</td>\n",
       "      <td>0.133706</td>\n",
       "      <td>0.044235</td>\n",
       "      <td>-0.202634</td>\n",
       "      <td>-0.007802</td>\n",
       "      <td>0.055389</td>\n",
       "      <td>-0.027115</td>\n",
       "      <td>-0.451124</td>\n",
       "      <td>1.000000</td>\n",
       "      <td>0.112827</td>\n",
       "      <td>NaN</td>\n",
       "    </tr>\n",
       "    <tr>\n",
       "      <th>mag_z</th>\n",
       "      <td>0.196322</td>\n",
       "      <td>0.268030</td>\n",
       "      <td>0.251206</td>\n",
       "      <td>0.097816</td>\n",
       "      <td>-0.071916</td>\n",
       "      <td>0.057964</td>\n",
       "      <td>0.024008</td>\n",
       "      <td>-0.703898</td>\n",
       "      <td>0.112827</td>\n",
       "      <td>1.000000</td>\n",
       "      <td>NaN</td>\n",
       "    </tr>\n",
       "    <tr>\n",
       "      <th>label</th>\n",
       "      <td>NaN</td>\n",
       "      <td>NaN</td>\n",
       "      <td>NaN</td>\n",
       "      <td>NaN</td>\n",
       "      <td>NaN</td>\n",
       "      <td>NaN</td>\n",
       "      <td>NaN</td>\n",
       "      <td>NaN</td>\n",
       "      <td>NaN</td>\n",
       "      <td>NaN</td>\n",
       "      <td>NaN</td>\n",
       "    </tr>\n",
       "  </tbody>\n",
       "</table>\n",
       "</div>"
      ],
      "text/plain": [
       "           time     acc_x     acc_y     acc_z     gyr_x     gyr_y     gyr_z  \\\n",
       "time   1.000000  0.256811  0.068853 -0.378580 -0.027247 -0.028181 -0.025370   \n",
       "acc_x  0.256811  1.000000 -0.135038  0.011197 -0.065777  0.032644  0.022999   \n",
       "acc_y  0.068853 -0.135038  1.000000 -0.215527  0.000887  0.004718  0.000419   \n",
       "acc_z -0.378580  0.011197 -0.215527  1.000000 -0.004675 -0.006845  0.008129   \n",
       "gyr_x -0.027247 -0.065777  0.000887 -0.004675  1.000000 -0.101733 -0.024195   \n",
       "gyr_y -0.028181  0.032644  0.004718 -0.006845 -0.101733  1.000000  0.036361   \n",
       "gyr_z -0.025370  0.022999  0.000419  0.008129 -0.024195  0.036361  1.000000   \n",
       "mag_x -0.206664 -0.509343  0.065785 -0.159903  0.068246 -0.052816 -0.017571   \n",
       "mag_y  0.183603  0.133706  0.044235 -0.202634 -0.007802  0.055389 -0.027115   \n",
       "mag_z  0.196322  0.268030  0.251206  0.097816 -0.071916  0.057964  0.024008   \n",
       "label       NaN       NaN       NaN       NaN       NaN       NaN       NaN   \n",
       "\n",
       "          mag_x     mag_y     mag_z  label  \n",
       "time  -0.206664  0.183603  0.196322    NaN  \n",
       "acc_x -0.509343  0.133706  0.268030    NaN  \n",
       "acc_y  0.065785  0.044235  0.251206    NaN  \n",
       "acc_z -0.159903 -0.202634  0.097816    NaN  \n",
       "gyr_x  0.068246 -0.007802 -0.071916    NaN  \n",
       "gyr_y -0.052816  0.055389  0.057964    NaN  \n",
       "gyr_z -0.017571 -0.027115  0.024008    NaN  \n",
       "mag_x  1.000000 -0.451124 -0.703898    NaN  \n",
       "mag_y -0.451124  1.000000  0.112827    NaN  \n",
       "mag_z -0.703898  0.112827  1.000000    NaN  \n",
       "label       NaN       NaN       NaN    NaN  "
      ]
     },
     "execution_count": 22,
     "metadata": {},
     "output_type": "execute_result"
    }
   ],
   "source": [
    "d2.corr()"
   ]
  },
  {
   "cell_type": "code",
   "execution_count": 23,
   "id": "0322aa3d",
   "metadata": {},
   "outputs": [
    {
     "data": {
      "text/plain": [
       "(array([ 0,  1,  2,  3,  4,  5,  6,  7,  8,  9, 10]),\n",
       " [Text(0, 0, 'time'),\n",
       "  Text(1, 0, 'acc_x'),\n",
       "  Text(2, 0, 'acc_y'),\n",
       "  Text(3, 0, 'acc_z'),\n",
       "  Text(4, 0, 'gyr_x'),\n",
       "  Text(5, 0, 'gyr_y'),\n",
       "  Text(6, 0, 'gyr_z'),\n",
       "  Text(7, 0, 'mag_x'),\n",
       "  Text(8, 0, 'mag_y'),\n",
       "  Text(9, 0, 'mag_z'),\n",
       "  Text(10, 0, 'label')])"
      ]
     },
     "execution_count": 23,
     "metadata": {},
     "output_type": "execute_result"
    },
    {
     "data": {
      "image/png": "[encoded data removed]",
      "text/plain": [
       "<Figure size 720x432 with 1 Axes>"
      ]
     },
     "metadata": {
      "needs_background": "light"
     },
     "output_type": "display_data"
    }
   ],
   "source": [
    "d2.corr().plot(kind=\"bar\",\n",
    "               figsize=(10,6))\n",
    "plt.xticks(rotation=0)"
   ]
  },
  {
   "cell_type": "code",
   "execution_count": 31,
   "id": "f81f800e",
   "metadata": {},
   "outputs": [
    {
     "data": {
      "image/png": "[encoded data removed]",
      "text/plain": [
       "<Figure size 720x360 with 2 Axes>"
      ]
     },
     "metadata": {
      "needs_background": "light"
     },
     "output_type": "display_data"
    }
   ],
   "source": [
    "corr_matrix=d2.corr()\n",
    "fig,ax = plt.subplots(figsize=(10,5))\n",
    "ax = sns.heatmap(corr_matrix,\n",
    "                annot=True,\n",
    "                linewidths=0.5,\n",
    "                fmt=\".2f\")"
   ]
  },
  {
   "cell_type": "code",
   "execution_count": 34,
   "id": "f8cde24d",
   "metadata": {},
   "outputs": [],
   "source": [
    "#Creating X & y labels\n",
    "X = d2.drop(\"label\",axis=1)\n",
    "y = d2[\"label\"]\n",
    "\n",
    "# Spliting the data into training and testing \n",
    "X_train , X_test , y_train , y_test = train_test_split(X,y, test_size=0.2)"
   ]
  },
  {
   "cell_type": "code",
   "execution_count": 36,
   "id": "d255eab4",
   "metadata": {},
   "outputs": [
    {
     "data": {
      "text/html": [
       "<div>\n",
       "<style scoped>\n",
       "    .dataframe tbody tr th:only-of-type {\n",
       "        vertical-align: middle;\n",
       "    }\n",
       "\n",
       "    .dataframe tbody tr th {\n",
       "        vertical-align: top;\n",
       "    }\n",
       "\n",
       "    .dataframe thead th {\n",
       "        text-align: right;\n",
       "    }\n",
       "</style>\n",
       "<table border=\"1\" class=\"dataframe\">\n",
       "  <thead>\n",
       "    <tr style=\"text-align: right;\">\n",
       "      <th></th>\n",
       "      <th>time</th>\n",
       "      <th>acc_x</th>\n",
       "      <th>acc_y</th>\n",
       "      <th>acc_z</th>\n",
       "      <th>gyr_x</th>\n",
       "      <th>gyr_y</th>\n",
       "      <th>gyr_z</th>\n",
       "      <th>mag_x</th>\n",
       "      <th>mag_y</th>\n",
       "      <th>mag_z</th>\n",
       "    </tr>\n",
       "  </thead>\n",
       "  <tbody>\n",
       "    <tr>\n",
       "      <th>50024</th>\n",
       "      <td>1628124189</td>\n",
       "      <td>-0.432129</td>\n",
       "      <td>0.791016</td>\n",
       "      <td>0.213379</td>\n",
       "      <td>39.123535</td>\n",
       "      <td>-64.819336</td>\n",
       "      <td>-0.915527</td>\n",
       "      <td>-201.0</td>\n",
       "      <td>660.0</td>\n",
       "      <td>358.5</td>\n",
       "    </tr>\n",
       "    <tr>\n",
       "      <th>23029</th>\n",
       "      <td>1628165802</td>\n",
       "      <td>-0.166016</td>\n",
       "      <td>0.907227</td>\n",
       "      <td>0.162109</td>\n",
       "      <td>-9.094238</td>\n",
       "      <td>19.226074</td>\n",
       "      <td>-8.728027</td>\n",
       "      <td>112.5</td>\n",
       "      <td>610.5</td>\n",
       "      <td>-586.5</td>\n",
       "    </tr>\n",
       "    <tr>\n",
       "      <th>27033</th>\n",
       "      <td>1628210058</td>\n",
       "      <td>-0.248535</td>\n",
       "      <td>-0.994629</td>\n",
       "      <td>0.226074</td>\n",
       "      <td>1.037598</td>\n",
       "      <td>-1.647949</td>\n",
       "      <td>0.122070</td>\n",
       "      <td>6.0</td>\n",
       "      <td>157.5</td>\n",
       "      <td>-780.0</td>\n",
       "    </tr>\n",
       "    <tr>\n",
       "      <th>46655</th>\n",
       "      <td>1628124121</td>\n",
       "      <td>-0.605469</td>\n",
       "      <td>0.758301</td>\n",
       "      <td>0.349609</td>\n",
       "      <td>28.808594</td>\n",
       "      <td>-2.197266</td>\n",
       "      <td>8.117676</td>\n",
       "      <td>-186.0</td>\n",
       "      <td>631.5</td>\n",
       "      <td>456.0</td>\n",
       "    </tr>\n",
       "    <tr>\n",
       "      <th>34649</th>\n",
       "      <td>1628251189</td>\n",
       "      <td>0.109863</td>\n",
       "      <td>0.970703</td>\n",
       "      <td>0.203125</td>\n",
       "      <td>1.403809</td>\n",
       "      <td>-6.530762</td>\n",
       "      <td>-0.549316</td>\n",
       "      <td>-237.0</td>\n",
       "      <td>-267.0</td>\n",
       "      <td>525.0</td>\n",
       "    </tr>\n",
       "    <tr>\n",
       "      <th>...</th>\n",
       "      <td>...</td>\n",
       "      <td>...</td>\n",
       "      <td>...</td>\n",
       "      <td>...</td>\n",
       "      <td>...</td>\n",
       "      <td>...</td>\n",
       "      <td>...</td>\n",
       "      <td>...</td>\n",
       "      <td>...</td>\n",
       "      <td>...</td>\n",
       "    </tr>\n",
       "    <tr>\n",
       "      <th>42365</th>\n",
       "      <td>1628211366</td>\n",
       "      <td>-0.077148</td>\n",
       "      <td>0.978516</td>\n",
       "      <td>0.038574</td>\n",
       "      <td>-2.746582</td>\n",
       "      <td>9.216309</td>\n",
       "      <td>-7.690430</td>\n",
       "      <td>-58.5</td>\n",
       "      <td>-15.0</td>\n",
       "      <td>370.5</td>\n",
       "    </tr>\n",
       "    <tr>\n",
       "      <th>27118</th>\n",
       "      <td>1628210060</td>\n",
       "      <td>-0.231934</td>\n",
       "      <td>-1.040527</td>\n",
       "      <td>0.229981</td>\n",
       "      <td>-6.774902</td>\n",
       "      <td>-14.648438</td>\n",
       "      <td>-6.103516</td>\n",
       "      <td>3.0</td>\n",
       "      <td>144.0</td>\n",
       "      <td>-808.5</td>\n",
       "    </tr>\n",
       "    <tr>\n",
       "      <th>46683</th>\n",
       "      <td>1628124121</td>\n",
       "      <td>-0.607422</td>\n",
       "      <td>0.730469</td>\n",
       "      <td>0.396484</td>\n",
       "      <td>-0.610352</td>\n",
       "      <td>-3.784180</td>\n",
       "      <td>5.371094</td>\n",
       "      <td>-205.5</td>\n",
       "      <td>663.0</td>\n",
       "      <td>511.5</td>\n",
       "    </tr>\n",
       "    <tr>\n",
       "      <th>27751</th>\n",
       "      <td>1628296037</td>\n",
       "      <td>-0.297852</td>\n",
       "      <td>-0.997559</td>\n",
       "      <td>0.071777</td>\n",
       "      <td>-0.366211</td>\n",
       "      <td>-4.211426</td>\n",
       "      <td>-3.234863</td>\n",
       "      <td>40.5</td>\n",
       "      <td>133.5</td>\n",
       "      <td>-723.0</td>\n",
       "    </tr>\n",
       "    <tr>\n",
       "      <th>30783</th>\n",
       "      <td>1628079229</td>\n",
       "      <td>-0.146484</td>\n",
       "      <td>0.914551</td>\n",
       "      <td>0.250977</td>\n",
       "      <td>15.502930</td>\n",
       "      <td>-11.657715</td>\n",
       "      <td>-12.695312</td>\n",
       "      <td>-136.5</td>\n",
       "      <td>-187.5</td>\n",
       "      <td>505.5</td>\n",
       "    </tr>\n",
       "  </tbody>\n",
       "</table>\n",
       "<p>43551 rows × 10 columns</p>\n",
       "</div>"
      ],
      "text/plain": [
       "             time     acc_x     acc_y     acc_z      gyr_x      gyr_y  \\\n",
       "50024  1628124189 -0.432129  0.791016  0.213379  39.123535 -64.819336   \n",
       "23029  1628165802 -0.166016  0.907227  0.162109  -9.094238  19.226074   \n",
       "27033  1628210058 -0.248535 -0.994629  0.226074   1.037598  -1.647949   \n",
       "46655  1628124121 -0.605469  0.758301  0.349609  28.808594  -2.197266   \n",
       "34649  1628251189  0.109863  0.970703  0.203125   1.403809  -6.530762   \n",
       "...           ...       ...       ...       ...        ...        ...   \n",
       "42365  1628211366 -0.077148  0.978516  0.038574  -2.746582   9.216309   \n",
       "27118  1628210060 -0.231934 -1.040527  0.229981  -6.774902 -14.648438   \n",
       "46683  1628124121 -0.607422  0.730469  0.396484  -0.610352  -3.784180   \n",
       "27751  1628296037 -0.297852 -0.997559  0.071777  -0.366211  -4.211426   \n",
       "30783  1628079229 -0.146484  0.914551  0.250977  15.502930 -11.657715   \n",
       "\n",
       "           gyr_z  mag_x  mag_y  mag_z  \n",
       "50024  -0.915527 -201.0  660.0  358.5  \n",
       "23029  -8.728027  112.5  610.5 -586.5  \n",
       "27033   0.122070    6.0  157.5 -780.0  \n",
       "46655   8.117676 -186.0  631.5  456.0  \n",
       "34649  -0.549316 -237.0 -267.0  525.0  \n",
       "...          ...    ...    ...    ...  \n",
       "42365  -7.690430  -58.5  -15.0  370.5  \n",
       "27118  -6.103516    3.0  144.0 -808.5  \n",
       "46683   5.371094 -205.5  663.0  511.5  \n",
       "27751  -3.234863   40.5  133.5 -723.0  \n",
       "30783 -12.695312 -136.5 -187.5  505.5  \n",
       "\n",
       "[43551 rows x 10 columns]"
      ]
     },
     "execution_count": 36,
     "metadata": {},
     "output_type": "execute_result"
    }
   ],
   "source": [
    "X_train"
   ]
  },
  {
   "cell_type": "code",
   "execution_count": 37,
   "id": "24a49aec",
   "metadata": {},
   "outputs": [],
   "source": [
    "# Importing models from sklearn\n",
    "from sklearn.linear_model import LogisticRegression\n",
    "from sklearn.neighbors import KNeighborsClassifier\n",
    "from sklearn.ensemble import RandomForestClassifier"
   ]
  },
  {
   "cell_type": "code",
   "execution_count": 40,
   "id": "c6cad8a2",
   "metadata": {},
   "outputs": [],
   "source": [
    "#Putting all models into dict\n",
    "models= {\n",
    "        \"KNM\": KNeighborsClassifier(),\n",
    "        \"Random Forest\": RandomForestClassifier()}\n",
    "\n",
    "# Creating a function to fit and score models\n",
    "def fit_and_score(models , X_train, X_test ,y_train , y_test):\n",
    "    \"\"\"\n",
    "    \"\"\"\n",
    "    #Random seed\n",
    "    np.random.seed(23)\n",
    "    \n",
    "    #Creating a dic to keep model scores\n",
    "    model_scores = {}\n",
    "    \n",
    "    #Looping through models\n",
    "    for name, model in models.items():\n",
    "        #Fiting the model to the data\n",
    "        model.fit(X_train,y_train)\n",
    "        \n",
    "        #Evaluating the models and append its score to model_scores\n",
    "        model_scores[name]=model.score(X_test,y_test)\n",
    "    return model_scores"
   ]
  },
  {
   "cell_type": "code",
   "execution_count": 53,
   "id": "904b685d",
   "metadata": {},
   "outputs": [
    {
     "data": {
      "text/plain": [
       "KNeighborsClassifier()"
      ]
     },
     "execution_count": 53,
     "metadata": {},
     "output_type": "execute_result"
    }
   ],
   "source": [
    "clf= KNeighborsClassifier()\n",
    "\n",
    "\n",
    "np.random.seed(23)\n",
    "\n",
    "clf.fit(X_train,y_train)"
   ]
  },
  {
   "cell_type": "code",
   "execution_count": 54,
   "id": "eac55fd0",
   "metadata": {},
   "outputs": [
    {
     "data": {
      "text/plain": [
       "1.0"
      ]
     },
     "execution_count": 54,
     "metadata": {},
     "output_type": "execute_result"
    }
   ],
   "source": [
    "clf.score(X_train,y_train)\n"
   ]
  },
  {
   "cell_type": "code",
   "execution_count": 55,
   "id": "92323add",
   "metadata": {},
   "outputs": [
    {
     "data": {
      "text/plain": [
       "1.0"
      ]
     },
     "execution_count": 55,
     "metadata": {},
     "output_type": "execute_result"
    }
   ],
   "source": [
    "clf.score(X_test, y_test)"
   ]
  },
  {
   "cell_type": "code",
   "execution_count": 41,
   "id": "25b8d9d2",
   "metadata": {},
   "outputs": [],
   "source": [
    "model_scores=fit_and_score(models=models,\n",
    "                          X_train=X_train,\n",
    "                          X_test=X_test,\n",
    "                          y_train=y_train,\n",
    "                          y_test=y_test)\n"
   ]
  },
  {
   "cell_type": "code",
   "execution_count": 42,
   "id": "5d1275a2",
   "metadata": {},
   "outputs": [
    {
     "data": {
      "text/plain": [
       "{'KNM': 1.0, 'Random Forest': 1.0}"
      ]
     },
     "execution_count": 42,
     "metadata": {},
     "output_type": "execute_result"
    }
   ],
   "source": [
    "model_scores"
   ]
  },
  {
   "cell_type": "markdown",
   "id": "04894fd2",
   "metadata": {},
   "source": [
    "`Model Comparision`"
   ]
  },
  {
   "cell_type": "code",
   "execution_count": 45,
   "id": "50e06a27",
   "metadata": {},
   "outputs": [
    {
     "data": {
      "image/png": "[encoded data removed]",
      "text/plain": [
       "<Figure size 432x288 with 1 Axes>"
      ]
     },
     "metadata": {
      "needs_background": "light"
     },
     "output_type": "display_data"
    }
   ],
   "source": [
    "mod_com = pd.DataFrame(model_scores , index=[\"accuracy\"])\n",
    "mod_com.T.plot.bar();"
   ]
  },
  {
   "cell_type": "code",
   "execution_count": 46,
   "id": "6396881b",
   "metadata": {},
   "outputs": [],
   "source": [
    "#Importing f1 score \n",
    "from sklearn.metrics import f1_score"
   ]
  },
  {
   "cell_type": "code",
   "execution_count": 63,
   "id": "5cf03e91",
   "metadata": {},
   "outputs": [
    {
     "name": "stdout",
     "output_type": "stream",
     "text": [
      "              precision    recall  f1-score   support\n",
      "\n",
      "           2       1.00      1.00      1.00     10888\n",
      "\n",
      "    accuracy                           1.00     10888\n",
      "   macro avg       1.00      1.00      1.00     10888\n",
      "weighted avg       1.00      1.00      1.00     10888\n",
      "\n"
     ]
    }
   ],
   "source": [
    "from sklearn.metrics import classification_report\n",
    "\n",
    "print(classification_report(y_test,y_preds))"
   ]
  },
  {
   "cell_type": "code",
   "execution_count": 61,
   "id": "803e615b",
   "metadata": {},
   "outputs": [],
   "source": [
    "y_preds = clf.predict(X_test)"
   ]
  },
  {
   "cell_type": "code",
   "execution_count": 62,
   "id": "b0c28787",
   "metadata": {},
   "outputs": [
    {
     "data": {
      "text/plain": [
       "array([2, 2, 2, ..., 2, 2, 2], dtype=int64)"
      ]
     },
     "execution_count": 62,
     "metadata": {},
     "output_type": "execute_result"
    }
   ],
   "source": [
    "y_preds"
   ]
  },
  {
   "cell_type": "code",
   "execution_count": 98,
   "id": "e01828a2",
   "metadata": {},
   "outputs": [
    {
     "data": {
      "text/plain": [
       "RandomForestClassifier()"
      ]
     },
     "execution_count": 98,
     "metadata": {},
     "output_type": "execute_result"
    }
   ],
   "source": [
    "#Importing Randomforest classifier\n",
    "clf_2 = RandomForestClassifier()\n",
    "\n",
    "\n",
    "#Spliting data into train and split\n",
    "X_train ,X_test ,y_train ,y_test = train_test_split( X, y , test_size=0.2)\n",
    "\n",
    "#Fitting model into model \n",
    "clf_2.fit(X_train, y_train)\n",
    "\n",
    "\n"
   ]
  },
  {
   "cell_type": "code",
   "execution_count": 76,
   "id": "0afe2ce8",
   "metadata": {},
   "outputs": [
    {
     "data": {
      "text/plain": [
       "1.0"
      ]
     },
     "execution_count": 76,
     "metadata": {},
     "output_type": "execute_result"
    }
   ],
   "source": [
    "clf_2"
   ]
  },
  {
   "cell_type": "code",
   "execution_count": 100,
   "id": "48731e31",
   "metadata": {},
   "outputs": [
    {
     "data": {
      "text/plain": [
       "1.0"
      ]
     },
     "execution_count": 100,
     "metadata": {},
     "output_type": "execute_result"
    }
   ],
   "source": [
    "#Calculating f1 score\n",
    "f1=f1_score(y_test,y_preds, average='weighted')\n",
    "f1"
   ]
  },
  {
   "cell_type": "code",
   "execution_count": null,
   "id": "60202a1c",
   "metadata": {},
   "outputs": [],
   "source": []
  },
  {
   "cell_type": "code",
   "execution_count": null,
   "id": "dbf900e2",
   "metadata": {},
   "outputs": [],
   "source": []
  }
 ],
 "metadata": {
  "kernelspec": {
   "display_name": "Python 3 (ipykernel)",
   "language": "python",
   "name": "python3"
  },
  "language_info": {
   "codemirror_mode": {
    "name": "ipython",
    "version": 3
   },
   "file_extension": ".py",
   "mimetype": "text/x-python",
   "name": "python",
   "nbconvert_exporter": "python",
   "pygments_lexer": "ipython3",
   "version": "3.9.7"
  }
 },
 "nbformat": 4,
 "nbformat_minor": 5
}
